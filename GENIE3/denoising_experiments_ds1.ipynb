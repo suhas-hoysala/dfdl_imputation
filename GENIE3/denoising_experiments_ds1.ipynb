{
 "cells": [
  {
   "cell_type": "markdown",
   "id": "acb3b222-1d4d-49b9-a328-00d347d261c8",
   "metadata": {},
   "source": [
    "# Imports"
   ]
  },
  {
   "cell_type": "code",
   "execution_count": 1,
   "id": "53df7839-6794-45e8-a088-5d06c2d167c5",
   "metadata": {},
   "outputs": [],
   "source": [
    "from GENIE3 import *\n",
    "import sys, os\n",
    "sys.path.append(os.getcwd())\n",
    "sys.path.append('/scratch/ab9738/dfdl_imputation/')\n",
    "import numpy as np\n",
    "import pandas as pd\n",
    "import matplotlib.pyplot as plt\n",
    "from tqdm import tqdm\n",
    "import re\n",
    "from scipy import stats\n",
    "import SERGIO.SERGIO.sergio as sergio\n",
    "from sklearn.metrics import roc_auc_score\n",
    "from copy import deepcopy\n",
    "import torch\n",
    "import torch.nn as nn\n",
    "import torch.optim as optim\n",
    "from torch.utils.data import DataLoader, TensorDataset\n",
    "import torch.nn.functional as F"
   ]
  },
  {
   "cell_type": "markdown",
   "id": "1adc8bdf-a6aa-43a7-a97f-58659413bebc",
   "metadata": {},
   "source": [
    "# Load Data"
   ]
  },
  {
   "cell_type": "code",
   "execution_count": 2,
   "id": "f4be4d72-5dad-4a87-bdcd-5edca02fc974",
   "metadata": {},
   "outputs": [],
   "source": [
    "ds1_clean = np.load('../SERGIO/imputation_data/DS1/DS6_clean_iter_0.npy')"
   ]
  },
  {
   "cell_type": "code",
   "execution_count": 3,
   "id": "51b7bad6-f4c8-4390-bc82-b874607ba9f7",
   "metadata": {},
   "outputs": [],
   "source": [
    "ds1_expr = np.load('../SERGIO/imputation_data/DS1/DS6_expr_iter_0.npy')"
   ]
  },
  {
   "cell_type": "markdown",
   "id": "d447d5eb-59e6-48b1-a9bb-3f27ebac7e4b",
   "metadata": {},
   "source": [
    "# Load Simulation"
   ]
  },
  {
   "cell_type": "code",
   "execution_count": 4,
   "id": "09d3c94d-0977-416a-9dfa-1708524ce05c",
   "metadata": {},
   "outputs": [],
   "source": [
    "def parse_dataset_name(folder_name):\n",
    "    pattern1 = r'De-noised_(\\d+)G_(\\d+)T_(\\d+)cPerT_dynamics_(\\d+)_DS(\\d+)'\n",
    "    pattern2 = r'De-noised_(\\d+)G_(\\d+)T_(\\d+)cPerT_(\\d+)_DS(\\d+)'\n",
    "    match_p1 = re.match(pattern1, folder_name)\n",
    "    match_p2 = re.match(pattern2, folder_name)\n",
    "    if match_p1:\n",
    "        return {\n",
    "            'number_genes': int(match_p1.group(1)),\n",
    "            'number_bins': int(match_p1.group(2)),\n",
    "            'number_sc': int(match_p1.group(3)),\n",
    "            'dynamics': int(match_p1.group(4)),\n",
    "            'dataset_id': int(match_p1.group(5)),\n",
    "            \"pattern\": \"De-noised_{number_genes}G_{number_bins}T_{number_sc}cPerT_dynamics_{dynamics}_DS{dataset_id}\"\n",
    "        }\n",
    "    if match_p2:\n",
    "        return {\n",
    "            'number_genes': int(match_p2.group(1)),\n",
    "            'number_bins': int(match_p2.group(2)),\n",
    "            'number_sc': int(match_p2.group(3)),\n",
    "            'dynamics': int(match_p2.group(4)),\n",
    "            'dataset_id': int(match_p2.group(5)),\n",
    "            \"pattern\": \"De-noised_{number_genes}G_{number_bins}T_{number_sc}cPerT_{dynamics}_DS{dataset_id}\"\n",
    "        }\n",
    "    return\n",
    "\n",
    "def get_datasets():\n",
    "    datasets = []\n",
    "    for folder_name in os.listdir('../SERGIO/data_sets'):\n",
    "        dataset_info = parse_dataset_name(folder_name)\n",
    "        if dataset_info:\n",
    "            datasets.append(dataset_info)\n",
    "    return sorted(datasets, key=lambda x: x['dataset_id'])"
   ]
  },
  {
   "cell_type": "code",
   "execution_count": 5,
   "id": "3cf1e2bf-2c16-4df6-ab18-22bda739f8ff",
   "metadata": {},
   "outputs": [],
   "source": [
    "data_info = get_datasets()[0]"
   ]
  },
  {
   "cell_type": "code",
   "execution_count": 6,
   "id": "320fe647-4d7c-4da4-a670-ac3e3f3d8355",
   "metadata": {},
   "outputs": [],
   "source": [
    "sim = sergio.sergio(\n",
    "        number_genes=data_info[\"number_genes\"],\n",
    "        number_bins=data_info[\"number_bins\"], \n",
    "        number_sc=data_info[\"number_sc\"],\n",
    "        noise_params=1,\n",
    "        decays=0.8, \n",
    "        sampling_state=15,\n",
    "        noise_type='dpd'\n",
    "    )"
   ]
  },
  {
   "cell_type": "markdown",
   "id": "d2e374a2-020b-4471-9a82-06e882a54ede",
   "metadata": {},
   "source": [
    "# Ground Truth"
   ]
  },
  {
   "cell_type": "code",
   "execution_count": 7,
   "id": "a892ff4b-7983-4e9d-9481-8bb50869c4b2",
   "metadata": {},
   "outputs": [],
   "source": [
    "target_file = '../SERGIO/data_sets/De-noised_100G_9T_300cPerT_4_DS1/Interaction_cID_4.txt'"
   ]
  },
  {
   "cell_type": "code",
   "execution_count": 8,
   "id": "3173a352-50a2-424f-b0ce-7fff874537e9",
   "metadata": {},
   "outputs": [],
   "source": [
    "gt = np.zeros((100,100))\n",
    "f = open(target_file,'r')\n",
    "Lines = f.readlines()\n",
    "f.close()\n",
    "for j in range(len(Lines)):\n",
    "    line = Lines[j]\n",
    "    line_list = line.split(',')\n",
    "    target_index = int(float(line_list[0]))\n",
    "    num_regs = int(float(line_list[1]))\n",
    "    for i in range(num_regs):\n",
    "        try:\n",
    "            reg_index = int(float(line_list[i+2]))\n",
    "            gt[reg_index,target_index] = 1 \n",
    "        except:\n",
    "            continue"
   ]
  },
  {
   "cell_type": "markdown",
   "id": "ef234eca-cca1-437a-bea6-508346cfac52",
   "metadata": {},
   "source": [
    "# Metrics Evaluation"
   ]
  },
  {
   "cell_type": "markdown",
   "id": "13fe0c4d-4fcb-4463-8424-a178db167f7d",
   "metadata": {},
   "source": [
    "Clean Dataset"
   ]
  },
  {
   "cell_type": "code",
   "execution_count": 15,
   "id": "d8b18591-f874-4fea-86f2-4a0eea514f5f",
   "metadata": {},
   "outputs": [
    {
     "name": "stdout",
     "output_type": "stream",
     "text": [
      "Tree method: RF\n",
      "K: sqrt\n",
      "Number of trees: 100\n",
      "\n",
      "\n",
      "running jobs on 80 threads\n",
      "Elapsed time: 59.96 seconds\n"
     ]
    }
   ],
   "source": [
    "VIM_clean = GENIE3(np.transpose(ds1_clean), nthreads=80, ntrees=100, regulators='all', gene_names=[str(s) for s in range(np.transpose(ds1_clean).shape[1])])"
   ]
  },
  {
   "cell_type": "code",
   "execution_count": 17,
   "id": "36a0bfec-6f3d-4b0a-9ce7-2ee12b869f05",
   "metadata": {},
   "outputs": [
    {
     "data": {
      "text/plain": [
       "0.6898146600908079"
      ]
     },
     "execution_count": 17,
     "metadata": {},
     "output_type": "execute_result"
    }
   ],
   "source": [
    "roc_auc_score(gt.flatten(),VIM_clean.flatten())"
   ]
  },
  {
   "cell_type": "markdown",
   "id": "b067d59f-ce3b-437b-a272-69c159962489",
   "metadata": {},
   "source": [
    "Add outlier noise"
   ]
  },
  {
   "cell_type": "code",
   "execution_count": 9,
   "id": "486b87bb-64b9-440c-8f0e-48b805753da5",
   "metadata": {},
   "outputs": [],
   "source": [
    "expr_O = sim.outlier_effect(ds1_expr, outlier_prob = 0.01, mean = 5, scale = 1)"
   ]
  },
  {
   "cell_type": "code",
   "execution_count": 10,
   "id": "72c67f6b-3025-42d0-a3c6-8260c1b80be7",
   "metadata": {},
   "outputs": [],
   "source": [
    "ds1_O = np.concatenate(expr_O, axis=1)"
   ]
  },
  {
   "cell_type": "code",
   "execution_count": 27,
   "id": "f98c465a-7af4-483e-8809-8a6b17fa1c6d",
   "metadata": {},
   "outputs": [
    {
     "name": "stdout",
     "output_type": "stream",
     "text": [
      "Tree method: RF\n",
      "K: sqrt\n",
      "Number of trees: 100\n",
      "\n",
      "\n",
      "running jobs on 80 threads\n",
      "Elapsed time: 60.18 seconds\n"
     ]
    }
   ],
   "source": [
    "VIM_O = GENIE3(np.transpose(ds1_O), nthreads=80, ntrees=100, regulators='all', gene_names=[str(s) for s in range(np.transpose(ds1_O).shape[1])])"
   ]
  },
  {
   "cell_type": "code",
   "execution_count": 28,
   "id": "29ac303b-81b6-48de-91b5-bb41bd8e895f",
   "metadata": {},
   "outputs": [
    {
     "data": {
      "text/plain": [
       "0.7012030543049436"
      ]
     },
     "execution_count": 28,
     "metadata": {},
     "output_type": "execute_result"
    }
   ],
   "source": [
    "roc_auc_score(gt.flatten(),VIM_O.flatten())"
   ]
  },
  {
   "cell_type": "markdown",
   "id": "91a6e748-124f-4e36-a42e-c4ae9433c758",
   "metadata": {},
   "source": [
    "Add library noise on top"
   ]
  },
  {
   "cell_type": "code",
   "execution_count": 11,
   "id": "f730644d-c684-4ed7-81a8-22b3053cddeb",
   "metadata": {},
   "outputs": [],
   "source": [
    "libFactor, expr_O_L = sim.lib_size_effect(expr_O, mean = 4.5, scale = 0.7)"
   ]
  },
  {
   "cell_type": "code",
   "execution_count": 12,
   "id": "93aa831e-bf63-4e02-91ca-2e7a78e1c441",
   "metadata": {},
   "outputs": [],
   "source": [
    "ds1_O_L = np.concatenate(expr_O_L, axis=1)"
   ]
  },
  {
   "cell_type": "code",
   "execution_count": 31,
   "id": "63d287ba-ab68-44db-a830-68bcf7d362db",
   "metadata": {},
   "outputs": [
    {
     "name": "stdout",
     "output_type": "stream",
     "text": [
      "Tree method: RF\n",
      "K: sqrt\n",
      "Number of trees: 100\n",
      "\n",
      "\n",
      "running jobs on 80 threads\n",
      "Elapsed time: 61.82 seconds\n"
     ]
    }
   ],
   "source": [
    "VIM_O_L = GENIE3(np.transpose(ds1_O_L), nthreads=80, ntrees=100, regulators='all', gene_names=[str(s) for s in range(np.transpose(ds1_O_L).shape[1])])"
   ]
  },
  {
   "cell_type": "code",
   "execution_count": 32,
   "id": "695e8e61-1d2c-4892-9417-62c3ad4c0374",
   "metadata": {},
   "outputs": [
    {
     "data": {
      "text/plain": [
       "0.5561637535230657"
      ]
     },
     "execution_count": 32,
     "metadata": {},
     "output_type": "execute_result"
    }
   ],
   "source": [
    "roc_auc_score(gt.flatten(),VIM_O_L.flatten())"
   ]
  },
  {
   "cell_type": "markdown",
   "id": "9e458009-43a8-446a-b897-70d1fe440d53",
   "metadata": {},
   "source": [
    "Add dropouts on top"
   ]
  },
  {
   "cell_type": "code",
   "execution_count": 13,
   "id": "9c840924-41e4-4514-8333-855cda127e3a",
   "metadata": {},
   "outputs": [],
   "source": [
    "binary_ind = sim.dropout_indicator(expr_O_L, shape = 8, percentile = 45)\n",
    "expr_O_L_D = np.multiply(binary_ind, expr_O_L)"
   ]
  },
  {
   "cell_type": "code",
   "execution_count": 14,
   "id": "a1629c8d-0195-404c-9bc6-82a57490b5d0",
   "metadata": {},
   "outputs": [],
   "source": [
    "ds1_O_L_D = np.concatenate(expr_O_L_D, axis=1)"
   ]
  },
  {
   "cell_type": "code",
   "execution_count": 35,
   "id": "c3b60e24-ab59-4667-b6a4-228393558235",
   "metadata": {},
   "outputs": [
    {
     "name": "stdout",
     "output_type": "stream",
     "text": [
      "Tree method: RF\n",
      "K: sqrt\n",
      "Number of trees: 100\n",
      "\n",
      "\n",
      "running jobs on 80 threads\n",
      "Elapsed time: 42.22 seconds\n"
     ]
    }
   ],
   "source": [
    "VIM_O_L_D = GENIE3(np.transpose(ds1_O_L_D), nthreads=80, ntrees=100, regulators='all', gene_names=[str(s) for s in range(np.transpose(ds1_O_L_D).shape[1])])"
   ]
  },
  {
   "cell_type": "code",
   "execution_count": 37,
   "id": "3fadfaf4-1d07-4e13-a0cb-1dd8f0214cff",
   "metadata": {},
   "outputs": [
    {
     "data": {
      "text/plain": [
       "0.5184400955504734"
      ]
     },
     "execution_count": 37,
     "metadata": {},
     "output_type": "execute_result"
    }
   ],
   "source": [
    "roc_auc_score(gt.flatten(),VIM_O_L_D.flatten())"
   ]
  },
  {
   "cell_type": "markdown",
   "id": "25b711d7-7970-43de-8ecb-b180482c8ac3",
   "metadata": {},
   "source": [
    "Convert to UMI Counts"
   ]
  },
  {
   "cell_type": "code",
   "execution_count": 15,
   "id": "1dfab71a-eee4-45c3-bf1a-e5d10a8d3a9a",
   "metadata": {},
   "outputs": [],
   "source": [
    "expr_O_L_D_C = sim.convert_to_UMIcounts(expr_O_L_D)"
   ]
  },
  {
   "cell_type": "code",
   "execution_count": 16,
   "id": "d49c1664-1475-49f2-814e-2a2fff85c65d",
   "metadata": {},
   "outputs": [],
   "source": [
    "ds1_O_L_D_C = np.concatenate(expr_O_L_D_C, axis=1)"
   ]
  },
  {
   "cell_type": "code",
   "execution_count": 40,
   "id": "54ded844-df65-4b0d-a232-6542a44a85fc",
   "metadata": {},
   "outputs": [
    {
     "name": "stdout",
     "output_type": "stream",
     "text": [
      "Tree method: RF\n",
      "K: sqrt\n",
      "Number of trees: 100\n",
      "\n",
      "\n",
      "running jobs on 80 threads\n",
      "Elapsed time: 12.80 seconds\n"
     ]
    }
   ],
   "source": [
    "VIM_O_L_D_C = GENIE3(np.transpose(ds1_O_L_D_C), nthreads=80, ntrees=100, regulators='all', gene_names=[str(s) for s in range(np.transpose(ds1_O_L_D_C).shape[1])])"
   ]
  },
  {
   "cell_type": "code",
   "execution_count": 41,
   "id": "be5f9563-56c9-443a-ac88-a24c466888f0",
   "metadata": {},
   "outputs": [
    {
     "data": {
      "text/plain": [
       "0.43300764371959344"
      ]
     },
     "execution_count": 41,
     "metadata": {},
     "output_type": "execute_result"
    }
   ],
   "source": [
    "roc_auc_score(gt.flatten(),VIM_O_L_D_C.flatten())"
   ]
  },
  {
   "cell_type": "markdown",
   "id": "5efa98ad-8d42-4503-b13a-0bd8ffc81c79",
   "metadata": {},
   "source": [
    "# Denoising"
   ]
  },
  {
   "cell_type": "code",
   "execution_count": 14,
   "id": "54368d7b-99bb-446f-ac52-f796cc3e91ca",
   "metadata": {},
   "outputs": [],
   "source": [
    "ds1_noisy = ds1_O_L_D_C"
   ]
  },
  {
   "cell_type": "markdown",
   "id": "f6223503-57d3-47e4-af0f-105fe3fa3396",
   "metadata": {},
   "source": [
    "Normal Imputation Followed by Normalization"
   ]
  },
  {
   "cell_type": "code",
   "execution_count": 158,
   "id": "8fb9c752-89c9-4b33-9635-f7dba6237558",
   "metadata": {},
   "outputs": [],
   "source": [
    "def zero_impute(ds1):\n",
    "    ds1[ds1 == 0] = np.nan\n",
    "    for i in range(9):\n",
    "        ds1_cell_type = ds1[:,i*300:(i+1)*300]\n",
    "        mean_array = np.nanmean(ds1_cell_type, axis=1)\n",
    "        var_array = np.nanvar(ds1_cell_type, axis=1)\n",
    "        for j in range(100):\n",
    "            np.nan_to_num(ds1_cell_type[j,:],copy=False,nan=np.random.normal(loc=mean_array[j],scale=np.sqrt(var_array[j])))\n",
    "    ds1[ds1<0] = 0.0\n",
    "    np.nan_to_num(ds1,copy=False)\n",
    "    return(ds1)"
   ]
  },
  {
   "cell_type": "code",
   "execution_count": 161,
   "id": "3f3ade30-6401-404e-8e75-f367df33c249",
   "metadata": {},
   "outputs": [
    {
     "name": "stderr",
     "output_type": "stream",
     "text": [
      "/state/partition1/job-51033638/ipykernel_2104132/487957532.py:5: RuntimeWarning: Mean of empty slice\n",
      "  mean_array = np.nanmean(ds1_cell_type, axis=1)\n",
      "/state/partition1/job-51033638/ipykernel_2104132/487957532.py:6: RuntimeWarning: Degrees of freedom <= 0 for slice.\n",
      "  var_array = np.nanvar(ds1_cell_type, axis=1)\n"
     ]
    }
   ],
   "source": [
    "ds1_imputed = zero_impute(ds1_noisy.astype(float32))"
   ]
  },
  {
   "cell_type": "code",
   "execution_count": 162,
   "id": "c0e168c5-e9e8-4d2e-9c5f-6857c0483504",
   "metadata": {},
   "outputs": [],
   "source": [
    "lib_depth_matrix = np.tile(np.sum(ds1_imputed, axis=0),(100,1))"
   ]
  },
  {
   "cell_type": "code",
   "execution_count": 163,
   "id": "a425e229-0290-4bb2-8874-2d5c9ece607b",
   "metadata": {},
   "outputs": [],
   "source": [
    "ds1_normalized = ds1_imputed/lib_depth_matrix"
   ]
  },
  {
   "cell_type": "code",
   "execution_count": 164,
   "id": "4e7e0d79-1584-4e89-8488-2b9b4d47e312",
   "metadata": {},
   "outputs": [
    {
     "name": "stdout",
     "output_type": "stream",
     "text": [
      "Tree method: RF\n",
      "K: sqrt\n",
      "Number of trees: 100\n",
      "\n",
      "\n",
      "running jobs on 80 threads\n",
      "Elapsed time: 61.83 seconds\n"
     ]
    }
   ],
   "source": [
    "VIM_normalized = GENIE3(np.transpose(ds1_normalized), nthreads=80, ntrees=100, regulators='all',\\\n",
    "                        gene_names=[str(s) for s in range(np.transpose(ds1_normalized).shape[1])])"
   ]
  },
  {
   "cell_type": "code",
   "execution_count": 165,
   "id": "abe133bc-6c2b-4a3e-8500-5669a166c402",
   "metadata": {},
   "outputs": [
    {
     "data": {
      "text/plain": [
       "0.54083016237533"
      ]
     },
     "execution_count": 165,
     "metadata": {},
     "output_type": "execute_result"
    }
   ],
   "source": [
    "roc_auc_score(gt.flatten(),VIM_normalized.flatten())"
   ]
  },
  {
   "cell_type": "code",
   "execution_count": 166,
   "id": "568f29a0-cd23-46d8-a943-815f8ede3993",
   "metadata": {},
   "outputs": [
    {
     "data": {
      "text/plain": [
       "0.4202334630350197"
      ]
     },
     "execution_count": 166,
     "metadata": {},
     "output_type": "execute_result"
    }
   ],
   "source": [
    "# percentage recovery\n",
    "(0.541-0.433)/(0.690-0.433)"
   ]
  },
  {
   "cell_type": "markdown",
   "id": "f35e7919-a008-4a12-a2ff-d14ad93cba15",
   "metadata": {},
   "source": [
    "Dataset Substitution"
   ]
  },
  {
   "cell_type": "code",
   "execution_count": 179,
   "id": "438aff9f-34d8-49f3-90af-3f7cccc051d9",
   "metadata": {},
   "outputs": [],
   "source": [
    "ds1_noisy = ds1_O_L_D_C"
   ]
  },
  {
   "cell_type": "code",
   "execution_count": 180,
   "id": "c746e699-43af-4618-9822-18bdf66a06fa",
   "metadata": {},
   "outputs": [],
   "source": [
    "def substitute_dataset(ds1):\n",
    "    ds1[ds1 == 0] = np.nan\n",
    "    for i in range(9):\n",
    "        ds1_cell_type = ds1[:,i*300:(i+1)*300]\n",
    "        mean_array = np.nanmean(ds1_cell_type, axis=1)\n",
    "        var_array = np.nanvar(ds1_cell_type, axis=1)\n",
    "        for j in range(100):\n",
    "            ds1_cell_type[j,:] = np.random.normal(loc=mean_array[j],scale=np.sqrt(var_array[j]),size=300)\n",
    "    ds1[ds1<0] = 0.0\n",
    "    np.nan_to_num(ds1,copy=False)\n",
    "    return(ds1)"
   ]
  },
  {
   "cell_type": "code",
   "execution_count": 181,
   "id": "9e19cb0b-ad88-4bb4-aa75-f82c58bf44cf",
   "metadata": {},
   "outputs": [
    {
     "name": "stderr",
     "output_type": "stream",
     "text": [
      "/state/partition1/job-51033638/ipykernel_2104132/4258177860.py:5: RuntimeWarning: Mean of empty slice\n",
      "  mean_array = np.nanmean(ds1_cell_type, axis=1)\n",
      "/state/partition1/job-51033638/ipykernel_2104132/4258177860.py:6: RuntimeWarning: Degrees of freedom <= 0 for slice.\n",
      "  var_array = np.nanvar(ds1_cell_type, axis=1)\n"
     ]
    }
   ],
   "source": [
    "ds1_substitute = substitute_dataset(ds1_noisy.astype(float32))"
   ]
  },
  {
   "cell_type": "code",
   "execution_count": 182,
   "id": "f2d95cb9-2b43-4704-847d-107e99daaad8",
   "metadata": {},
   "outputs": [
    {
     "name": "stdout",
     "output_type": "stream",
     "text": [
      "Tree method: RF\n",
      "K: sqrt\n",
      "Number of trees: 100\n",
      "\n",
      "\n",
      "running jobs on 80 threads\n",
      "Elapsed time: 72.90 seconds\n"
     ]
    }
   ],
   "source": [
    "VIM_substitute = GENIE3(np.transpose(ds1_substitute), nthreads=80, ntrees=100, regulators='all',\\\n",
    "                        gene_names=[str(s) for s in range(np.transpose(ds1_substitute).shape[1])])"
   ]
  },
  {
   "cell_type": "code",
   "execution_count": 183,
   "id": "20df53be-a3e0-419c-812d-6e87f362ea2f",
   "metadata": {},
   "outputs": [
    {
     "data": {
      "text/plain": [
       "0.5452106200436374"
      ]
     },
     "execution_count": 183,
     "metadata": {},
     "output_type": "execute_result"
    }
   ],
   "source": [
    "roc_auc_score(gt.flatten(),VIM_substitute.flatten())"
   ]
  },
  {
   "cell_type": "markdown",
   "id": "07175595-5f17-4ae1-8480-2f105fb48ba6",
   "metadata": {},
   "source": [
    "Model based dataset substitution"
   ]
  },
  {
   "cell_type": "code",
   "execution_count": 125,
   "id": "a88e4e00-ad01-4bb5-844a-3ed79dfdade9",
   "metadata": {},
   "outputs": [],
   "source": [
    "ds1_noisy = ds1_O_L_D_C"
   ]
  },
  {
   "cell_type": "code",
   "execution_count": 126,
   "id": "ebba33d6-1600-4b14-8ce2-0b123195bc97",
   "metadata": {},
   "outputs": [],
   "source": [
    "device = 'cpu'"
   ]
  },
  {
   "cell_type": "code",
   "execution_count": 127,
   "id": "af027664-8f17-491d-8e9f-06e4ae1c3296",
   "metadata": {},
   "outputs": [],
   "source": [
    "class CNNMultiCTNet(nn.Module):\n",
    "    def __init__(self):\n",
    "        super(CNNMultiCTNet, self).__init__()\n",
    "        \n",
    "        self.num_ct = 9\n",
    "        \n",
    "        # Separate 1D convolution layers for each ct\n",
    "        self.conv_layers = nn.ModuleList([nn.Conv1d(in_channels=2, out_channels=2, kernel_size=1) for _ in range(self.num_ct)])\n",
    "        \n",
    "        # Separate fully connected layers for mu_{ct,g} and sigma_{ct,g} for each ct\n",
    "        self.fc_mu_layers = nn.ModuleList([nn.Linear(100, 100) for _ in range(self.num_ct)])\n",
    "        self.fc_sigma_layers = nn.ModuleList([nn.Linear(100, 100) for _ in range(self.num_ct)])\n",
    "\n",
    "    def forward(self, x):\n",
    "        # Input shape: (batch_size, 2, 9, 100)\n",
    "        batch_size = x.size(0)\n",
    "        \n",
    "        # Prepare lists to store results for each ct\n",
    "        mu_g_hat_list = []\n",
    "        sigma_g_hat_list = []\n",
    "        \n",
    "        for ct in range(self.num_ct):\n",
    "            # Extract the mu_{ct,g} and sigma_{ct,g} for this ct (shape: (batch_size, 2, 100))\n",
    "            x_ct = x[:, :, ct, :]  # (batch_size, 2, 100)\n",
    "\n",
    "            # Pass through the convolution layer specific to this ct\n",
    "            x_ct = self.conv_layers[ct](x_ct)  # (batch_size, 2, 100)\n",
    "            \n",
    "            # Separate the mu_{ct,g} and sigma_{ct,g}\n",
    "            mu_ct_g = x_ct[:, 0, :]  # (batch_size, 100)\n",
    "            sigma_ct_g = x_ct[:, 1, :]  # (batch_size, 100)\n",
    "\n",
    "            # Pass through fully connected layers specific to this ct\n",
    "            mu_ct_g_hat = self.fc_mu_layers[ct](mu_ct_g)  # (batch_size, 100)\n",
    "            sigma_ct_g_hat = self.fc_sigma_layers[ct](sigma_ct_g)  # (batch_size, 100)\n",
    "            \n",
    "            # Apply activation (e.g., ReLU) if necessary\n",
    "            mu_ct_g_hat = F.relu(mu_ct_g_hat)\n",
    "            sigma_ct_g_hat = F.relu(sigma_ct_g_hat)\n",
    "            \n",
    "            # Sum the mu_ct_g_hat to normalize it\n",
    "            sum_mu_ct_g_hat = torch.sum(mu_ct_g_hat, dim=1, keepdim=True)  # (batch_size, 1)\n",
    "            \n",
    "            # Scale the mu_ct_g_hat and sigma_ct_g_hat\n",
    "            mu_ct_g_hat = mu_ct_g_hat / sum_mu_ct_g_hat  # Normalize mu_ct_g_hat so the sum is 1\n",
    "            sigma_ct_g_hat = sigma_ct_g_hat / sum_mu_ct_g_hat  # Scale sigma_ct_g_hat with the same factor\n",
    "            \n",
    "            # Collect the results for each ct\n",
    "            mu_g_hat_list.append(mu_ct_g_hat.unsqueeze(1))  # (batch_size, 1, 100)\n",
    "            sigma_g_hat_list.append(sigma_ct_g_hat.unsqueeze(1))  # (batch_size, 1, 100)\n",
    "        \n",
    "        # Stack the results along the ct dimension\n",
    "        mu_g_hat = torch.cat(mu_g_hat_list, dim=1)  # (batch_size, 9, 100)\n",
    "        sigma_g_hat = torch.cat(sigma_g_hat_list, dim=1)  # (batch_size, 9, 100)\n",
    "        \n",
    "        # Combine mu and sigma along the 2nd dimension (channels)\n",
    "        output = torch.stack([mu_g_hat, sigma_g_hat], dim=1)  # (batch_size, 2, 9, 100)\n",
    "        \n",
    "        return output"
   ]
  },
  {
   "cell_type": "code",
   "execution_count": 128,
   "id": "1f74f632-b48e-4369-8ce5-e846242bb020",
   "metadata": {},
   "outputs": [
    {
     "data": {
      "text/plain": [
       "<All keys matched successfully>"
      ]
     },
     "execution_count": 128,
     "metadata": {},
     "output_type": "execute_result"
    }
   ],
   "source": [
    "model = CNNMultiCTNet().to(device)\n",
    "model.load_state_dict(torch.load('./model_ds1.pth'))"
   ]
  },
  {
   "cell_type": "code",
   "execution_count": 129,
   "id": "d586d7a9-2eda-4d6b-8507-86b8408fa97b",
   "metadata": {},
   "outputs": [],
   "source": [
    "x_means, x_stds = np.zeros((9,100)),np.zeros((9,100))"
   ]
  },
  {
   "cell_type": "code",
   "execution_count": 130,
   "id": "f5435dab-7b51-4008-b657-aa8193433c45",
   "metadata": {},
   "outputs": [],
   "source": [
    "def find_x(ds1, x_means, x_stds):\n",
    "    ds1[ds1 == 0] = np.nan\n",
    "    for i in range(9):\n",
    "        ds1_cell_type = ds1[:,i*300:(i+1)*300]\n",
    "        x_means[i,:] = np.nanmean(ds1_cell_type, axis=1)\n",
    "        x_stds[i,:] = np.nanstd(ds1_cell_type, axis=1)\n",
    "    x = np.stack([x_means, x_stds], axis=0)\n",
    "    x = np.expand_dims(x, axis=0)\n",
    "    x = np.nan_to_num(x)\n",
    "    x = torch.tensor(x,dtype=torch.float32).to(device)\n",
    "    return(x)"
   ]
  },
  {
   "cell_type": "code",
   "execution_count": 131,
   "id": "b8dba3eb-72e8-4101-84b1-748ca2ae6ee5",
   "metadata": {},
   "outputs": [],
   "source": [
    "x = find_x(ds1_noisy.astype(float32),x_means,x_stds)"
   ]
  },
  {
   "cell_type": "code",
   "execution_count": 132,
   "id": "87d99f59-dd9f-4546-9e9d-e83c0e61db2f",
   "metadata": {},
   "outputs": [],
   "source": [
    "y = model(x)"
   ]
  },
  {
   "cell_type": "code",
   "execution_count": 133,
   "id": "1c2be2db-fe5d-4d39-9633-a43eac6faf0b",
   "metadata": {},
   "outputs": [],
   "source": [
    "y = y.detach().cpu().numpy()"
   ]
  },
  {
   "cell_type": "code",
   "execution_count": 134,
   "id": "63cd66b1-fef8-4a76-ae64-5f862042b8d0",
   "metadata": {},
   "outputs": [
    {
     "data": {
      "text/plain": [
       "(1, 2, 9, 100)"
      ]
     },
     "execution_count": 134,
     "metadata": {},
     "output_type": "execute_result"
    }
   ],
   "source": [
    "y.shape"
   ]
  },
  {
   "cell_type": "code",
   "execution_count": 135,
   "id": "072ade6d-3cab-4bd3-ba3b-29e9e2d3c2f4",
   "metadata": {},
   "outputs": [],
   "source": [
    "y_means = y[0,0,:,:]\n",
    "y_stds = y[0,1,:,:]"
   ]
  },
  {
   "cell_type": "code",
   "execution_count": 136,
   "id": "f335a1f5-1eba-477a-8603-8b82f0eca8d7",
   "metadata": {},
   "outputs": [],
   "source": [
    "def simulate_dataset(ds1,y_means,y_stds):\n",
    "    ds = np.zeros_like(ds1)\n",
    "    for i in range(9):\n",
    "        ds_cell_type = ds[:,i*300:(i+1)*300]\n",
    "        mean_array = y_means[i,:]\n",
    "        std_array = y_stds[i,:]\n",
    "        for j in range(100):\n",
    "            ds_cell_type[j,:] = np.random.normal(loc=mean_array[j],scale=std_array[j],size=300)\n",
    "    ds[ds<0] = 0.0\n",
    "    np.nan_to_num(ds,copy=False)\n",
    "    return(ds)"
   ]
  },
  {
   "cell_type": "code",
   "execution_count": 137,
   "id": "e869b9a2-ff22-44ae-8ddf-d480a246ba81",
   "metadata": {},
   "outputs": [],
   "source": [
    "ds1_simulated = simulate_dataset(ds1_noisy.astype(float32), y_means, y_stds)"
   ]
  },
  {
   "cell_type": "code",
   "execution_count": 138,
   "id": "2c063815-d8ca-4432-9ed9-b1085fefefd2",
   "metadata": {},
   "outputs": [
    {
     "name": "stdout",
     "output_type": "stream",
     "text": [
      "Tree method: RF\n",
      "K: sqrt\n",
      "Number of trees: 100\n",
      "\n",
      "\n",
      "running jobs on 80 threads\n",
      "Elapsed time: 36.27 seconds\n"
     ]
    }
   ],
   "source": [
    "VIM_simulated = GENIE3(np.transpose(ds1_simulated), nthreads=80, ntrees=100, regulators='all',\\\n",
    "                        gene_names=[str(s) for s in range(np.transpose(ds1_simulated).shape[1])])"
   ]
  },
  {
   "cell_type": "code",
   "execution_count": 139,
   "id": "845bc8b7-1d41-4a8c-b0dc-2dd5a5becc90",
   "metadata": {},
   "outputs": [
    {
     "data": {
      "text/plain": [
       "0.5381243047366234"
      ]
     },
     "execution_count": 139,
     "metadata": {},
     "output_type": "execute_result"
    }
   ],
   "source": [
    "roc_auc_score(gt.flatten(),VIM_simulated.flatten())"
   ]
  },
  {
   "cell_type": "code",
   "execution_count": 94,
   "id": "35a3f4b1-a2c4-4510-bc00-fcf275ee751f",
   "metadata": {},
   "outputs": [
    {
     "data": {
      "text/plain": [
       "0.474708171206226"
      ]
     },
     "execution_count": 94,
     "metadata": {},
     "output_type": "execute_result"
    }
   ],
   "source": [
    "# percentage recovery\n",
    "(0.555-0.433)/(0.690-0.433)"
   ]
  },
  {
   "cell_type": "code",
   "execution_count": null,
   "id": "60fd6d8c-5f5c-4dc8-8669-42762e078b05",
   "metadata": {},
   "outputs": [],
   "source": []
  }
 ],
 "metadata": {
  "kernelspec": {
   "display_name": "Python 3 (ipykernel)",
   "language": "python",
   "name": "python3"
  },
  "language_info": {
   "codemirror_mode": {
    "name": "ipython",
    "version": 3
   },
   "file_extension": ".py",
   "mimetype": "text/x-python",
   "name": "python",
   "nbconvert_exporter": "python",
   "pygments_lexer": "ipython3",
   "version": "3.10.14"
  }
 },
 "nbformat": 4,
 "nbformat_minor": 5
}
