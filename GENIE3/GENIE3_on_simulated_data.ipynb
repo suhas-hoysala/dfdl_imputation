{
 "cells": [
  {
   "cell_type": "code",
   "execution_count": null,
   "id": "ff66c76c-1f6f-49a1-a2bd-f6d7d11cc06e",
   "metadata": {},
   "outputs": [],
   "source": [
    "from GENIE3 import *"
   ]
  },
  {
   "cell_type": "code",
   "execution_count": null,
   "id": "b1bfbe03-fe39-4c58-8123-d36ae73d9db9",
   "metadata": {},
   "outputs": [],
   "source": [
    "import sys, os\n",
    "import numpy as np\n",
    "import pandas as pd\n",
    "import matplotlib.pyplot as plt\n",
    "# import SAUCIE\n",
    "# import tensorflow.compat.v1 as tf\n",
    "# tf.disable_v2_behavior()\n",
    "from tqdm import tqdm\n",
    "\n",
    "sys.path.append(os.getcwd())"
   ]
  },
  {
   "cell_type": "code",
   "execution_count": null,
   "id": "020253c4-14a9-45d8-b8d2-c113eea48ab6",
   "metadata": {},
   "outputs": [],
   "source": [
    "sys.path"
   ]
  },
  {
   "cell_type": "code",
   "execution_count": null,
   "id": "f32223a2-a6fb-42be-bece-8ca4ef83ac48",
   "metadata": {},
   "outputs": [],
   "source": [
    "# y = np.transpose(np.load('./previous_imputations/DS6_45.npy'))\n",
    "y_test = np.transpose(np.load('../SERGIO/imputation_data/DS3/DS6_45.npy'))"
   ]
  },
  {
   "cell_type": "code",
   "execution_count": null,
   "id": "86ecfc41-ac2e-4c3c-b626-fef9ec683540",
   "metadata": {},
   "outputs": [],
   "source": [
    "x = np.transpose(np.load('../SERGIO/imputation_data/DS3/DS6_clean.npy'))"
   ]
  },
  {
   "cell_type": "code",
   "execution_count": null,
   "id": "bad50910-0bfb-47dd-aa7b-f7f83aff3c26",
   "metadata": {},
   "outputs": [],
   "source": [
    "# y_hat_saucie = np.load('./baselines/SAUCIE/yhat_saucie.npy')"
   ]
  },
  {
   "cell_type": "code",
   "execution_count": null,
   "id": "d6a944e5",
   "metadata": {},
   "outputs": [],
   "source": [
    "# y_magic_2 = np.load('./baselines/MAGIC/yhat_MAGIC_t_2.npy')\n",
    "# y_magic_7 = np.load('./baselines/MAGIC/yhat_MAGIC_t_7.npy')\n",
    "# y_magic_default = np.load('./baselines/MAGIC/yhat_MAGIC_t_auto.npy')"
   ]
  },
  {
   "cell_type": "code",
   "execution_count": null,
   "id": "874615a9-ce03-4269-8189-cd2c7df15725",
   "metadata": {},
   "outputs": [],
   "source": [
    "target_file = '../SERGIO/data_sets/temp/De-noised_1200G_9T_300cPerT_6_DS3/Interaction_cID_6.txt'"
   ]
  },
  {
   "cell_type": "code",
   "execution_count": null,
   "id": "157dab56",
   "metadata": {},
   "outputs": [],
   "source": [
    "# magic_df = pd.DataFrame(y_magic_2)"
   ]
  },
  {
   "cell_type": "code",
   "execution_count": null,
   "id": "3ff82872",
   "metadata": {},
   "outputs": [],
   "source": [
    "file = open('../SERGIO/data_sets/temp/De-noised_1200G_9T_300cPerT_6_DS3/Interaction_cID_6.txt', 'r')\n",
    "lines = file.readlines()\n",
    "regulators = []\n",
    "for row in lines:\n",
    "    row = row.split(',')\n",
    "    num_regs_row = int(float(row[1]))\n",
    "    if num_regs_row != 0:\n",
    "        for i in range(2, 2 + num_regs_row):\n",
    "            regulators.append(str(int(float(row[i]))))\n",
    "file.close()\n",
    "regulators = list(set(regulators))"
   ]
  },
  {
   "cell_type": "code",
   "execution_count": null,
   "id": "46ef58cc",
   "metadata": {},
   "outputs": [],
   "source": [
    "master_regulators = pd.read_table('../SERGIO/data_sets/temp/De-noised_1200G_9T_300cPerT_6_DS3/Regs_cID_6.txt', header=None, sep=',')\n",
    "master_regulators = master_regulators[0].astype(int).astype(str).tolist()"
   ]
  },
  {
   "cell_type": "code",
   "execution_count": null,
   "id": "0027b82c",
   "metadata": {},
   "outputs": [],
   "source": [
    "true_regs = [x for x in regulators if x not in master_regulators]"
   ]
  },
  {
   "cell_type": "code",
   "execution_count": null,
   "id": "7e9fb480",
   "metadata": {},
   "outputs": [],
   "source": [
    "other_regs = pd.read_csv('../SERGIO/data_sets/temp/De-noised_1200G_9T_300cPerT_6_DS3/gt_GRN.csv', header=None)\n",
    "other_regs = list(set(other_regs[0].values.astype(str).tolist()))\n",
    "hmm = [x for x in other_regs if x not in master_regulators]\n",
    "print(len(regulators), len(other_regs), len(master_regulators), len(true_regs), len(hmm))"
   ]
  },
  {
   "cell_type": "code",
   "execution_count": null,
   "id": "3cc4db5a",
   "metadata": {},
   "outputs": [],
   "source": [
    "print(len(regulators), len(master_regulators), len(true_regs))"
   ]
  },
  {
   "cell_type": "code",
   "execution_count": null,
   "id": "21ce606b-b38c-4bd8-9380-ad6ef7b027e0",
   "metadata": {},
   "outputs": [],
   "source": [
    "VIM = GENIE3(x, nthreads=40, ntrees=80, regulators='all', gene_names=[str(s) for s in range(x.shape[1])])\n",
    "# VIM_1 = GENIE3(y_magic_2,nthreads=12, ntrees=100, regulators=regulators, gene_names=[str(s) for s in range(y_magic_2.shape[1])])\n",
    "# VIM_2 = GENIE3(y_magic_2,nthreads=12, ntrees=100, regulators=master_regulators, gene_names=[str(s) for s in range(y.shape[1])])\n",
    "# VIM_3 = GENIE3(y_magic_2,nthreads=12, ntrees=100, regulators=true_regs, gene_names=[str(s) for s in range(y.shape[1])])"
   ]
  },
  {
   "cell_type": "code",
   "execution_count": null,
   "id": "e09a95f8-d00d-44c8-ae89-2ebe9751efed",
   "metadata": {},
   "outputs": [],
   "source": [
    "from sklearn.metrics import roc_auc_score\n",
    "# for i in range(4):\n",
    "v = VIM\n",
    "# if i == 1:\n",
    "#     print(\"all regulators\")\n",
    "#     v = VIM_1\n",
    "# if i == 2:\n",
    "#     print(\"master regulators\")\n",
    "#     v = VIM_2\n",
    "# if i == 3:\n",
    "#     print(\"'true' regulators\")\n",
    "#     v = VIM_3\n",
    "# if i == 0:\n",
    "#     print(\"baseline\")\n",
    "gt = np.zeros_like(v)\n",
    "f = open(target_file,'r')\n",
    "Lines = f.readlines()\n",
    "f.close()\n",
    "for j in range(len(Lines)):\n",
    "    line = Lines[j]\n",
    "    line_list = line.split(',')\n",
    "    target_index = int(float(line_list[0]))\n",
    "    num_regs = int(float(line_list[1]))\n",
    "    for i in range(num_regs):\n",
    "        try:\n",
    "            reg_index = int(float(line_list[i+2]))\n",
    "            gt[reg_index,target_index] = 1 \n",
    "        except:\n",
    "            continue\n",
    "print(roc_auc_score(gt.flatten(),v.flatten()))  "
   ]
  },
  {
   "cell_type": "code",
   "execution_count": null,
   "id": "317a1515-9305-4607-92b1-2560f42e0652",
   "metadata": {},
   "outputs": [],
   "source": []
  },
  {
   "cell_type": "markdown",
   "id": "abbff9d2-d335-4b69-a929-494099548b55",
   "metadata": {},
   "source": [
    "Saucie imputed data performance"
   ]
  },
  {
   "cell_type": "code",
   "execution_count": null,
   "id": "a1b202f6-1a9d-4956-826c-769f65f8b4a3",
   "metadata": {},
   "outputs": [],
   "source": []
  },
  {
   "cell_type": "code",
   "execution_count": null,
   "id": "8c8b9f22-1794-4eb1-a624-6d8154e39209",
   "metadata": {},
   "outputs": [],
   "source": [
    "y_hat_scscope = np.load('../scScope/yhat_scScope.npy')"
   ]
  },
  {
   "cell_type": "code",
   "execution_count": null,
   "id": "e1f5785c-69d1-45bd-a743-4e9e5502bf29",
   "metadata": {
    "scrolled": true
   },
   "outputs": [],
   "source": [
    "VIM = GENIE3(y_hat_scscope,nthreads=12,ntrees=100)"
   ]
  },
  {
   "cell_type": "markdown",
   "id": "786280d4-63ee-4b70-b17f-e1c6cb30e300",
   "metadata": {},
   "source": [
    "scScope imputed data performance"
   ]
  },
  {
   "cell_type": "code",
   "execution_count": null,
   "id": "bda009c7",
   "metadata": {},
   "outputs": [],
   "source": [
    "roc_auc_score(gt.flatten(),VIM.flatten())"
   ]
  },
  {
   "cell_type": "code",
   "execution_count": null,
   "id": "e54c3d4e",
   "metadata": {},
   "outputs": [],
   "source": [
    "VIM = GENIE3(x,nthreads=12,ntrees=100)"
   ]
  },
  {
   "cell_type": "markdown",
   "id": "952c4f6b-683b-418e-b18a-f3099905cb3b",
   "metadata": {},
   "source": [
    "Clean data performance"
   ]
  },
  {
   "cell_type": "code",
   "execution_count": null,
   "id": "65b9e840",
   "metadata": {},
   "outputs": [],
   "source": [
    "roc_auc_score(gt.flatten(),VIM.flatten())"
   ]
  },
  {
   "cell_type": "code",
   "execution_count": null,
   "id": "3aa78b90",
   "metadata": {},
   "outputs": [],
   "source": [
    "VIM = GENIE3(y,nthreads=12,ntrees=100)"
   ]
  },
  {
   "cell_type": "markdown",
   "id": "eb748bab",
   "metadata": {},
   "source": []
  },
  {
   "cell_type": "markdown",
   "id": "0be512d6-f1df-48c9-abfc-57ea64cf3625",
   "metadata": {},
   "source": [
    "Noisy data performance"
   ]
  },
  {
   "cell_type": "code",
   "execution_count": null,
   "id": "9c1c3b4b",
   "metadata": {},
   "outputs": [],
   "source": [
    "roc_auc_score(gt.flatten(),VIM.flatten())"
   ]
  },
  {
   "cell_type": "markdown",
   "id": "b197c107-09a5-490d-9d49-4829b6c4d3b9",
   "metadata": {},
   "source": [
    "## DeepImpute"
   ]
  },
  {
   "cell_type": "code",
   "execution_count": null,
   "id": "2abb3991-9680-40aa-a114-0b6c2f0c70af",
   "metadata": {},
   "outputs": [],
   "source": [
    "y_hat_deepimp = np.load('./baselines/deepimpute/yhat_deepimp.npy')"
   ]
  },
  {
   "cell_type": "code",
   "execution_count": null,
   "id": "f7ea73c5-2092-4cc6-a261-c6e03c911458",
   "metadata": {},
   "outputs": [],
   "source": [
    "VIM = GENIE3(y_hat_deepimp,nthreads=12,ntrees=100)"
   ]
  },
  {
   "cell_type": "code",
   "execution_count": null,
   "id": "b1b5ff38-0579-4e29-8a30-371ad91e93e5",
   "metadata": {},
   "outputs": [],
   "source": [
    "roc_auc_score(gt.flatten(),VIM.flatten())"
   ]
  },
  {
   "cell_type": "markdown",
   "id": "8d060616-4b3d-43c4-9c46-410fd82dcae6",
   "metadata": {},
   "source": [
    "## MAGIC"
   ]
  },
  {
   "cell_type": "code",
   "execution_count": null,
   "id": "72bd72bb-ac4e-461f-a1f2-c91a623ea490",
   "metadata": {},
   "outputs": [],
   "source": [
    "y_hat_magic = np.load('../MAGIC/yhat_MAGIC.npy')"
   ]
  },
  {
   "cell_type": "code",
   "execution_count": null,
   "id": "51061cd9-a387-48c4-a6f0-c09d5a174d3a",
   "metadata": {},
   "outputs": [],
   "source": [
    "VIM = GENIE3(y_hat_magic, nthreads=12, ntrees=100)"
   ]
  },
  {
   "cell_type": "code",
   "execution_count": null,
   "id": "f87bf7f5-0c81-468c-9650-0bfc8e8e9aaf",
   "metadata": {},
   "outputs": [],
   "source": [
    "roc_auc_score(gt.flatten(), VIM.flatten())"
   ]
  },
  {
   "cell_type": "code",
   "execution_count": null,
   "id": "dea3b4d0-03d5-423a-9703-7c510544aba9",
   "metadata": {},
   "outputs": [],
   "source": []
  }
 ],
 "metadata": {
  "kernelspec": {
   "display_name": "Python 3 (ipykernel)",
   "language": "python",
   "name": "python3"
  },
  "language_info": {
   "codemirror_mode": {
    "name": "ipython",
    "version": 3
   },
   "file_extension": ".py",
   "mimetype": "text/x-python",
   "name": "python",
   "nbconvert_exporter": "python",
   "pygments_lexer": "ipython3",
   "version": "3.10.14"
  }
 },
 "nbformat": 4,
 "nbformat_minor": 5
}
