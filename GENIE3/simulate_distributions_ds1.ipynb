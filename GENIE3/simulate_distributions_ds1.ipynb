{
 "cells": [
  {
   "cell_type": "code",
   "execution_count": 1,
   "id": "9b827f58-757d-4ea0-8ec1-d6233e2fa097",
   "metadata": {},
   "outputs": [],
   "source": [
    "from GENIE3 import *\n",
    "import sys, os\n",
    "sys.path.append(os.getcwd())\n",
    "sys.path.append('/scratch/ab9738/dfdl_imputation/')\n",
    "import numpy as np\n",
    "import pandas as pd\n",
    "import matplotlib.pyplot as plt\n",
    "from tqdm import tqdm\n",
    "import re\n",
    "from scipy import stats\n",
    "import SERGIO.SERGIO.sergio as sergio\n",
    "from sklearn.metrics import roc_auc_score\n",
    "from copy import deepcopy"
   ]
  },
  {
   "cell_type": "code",
   "execution_count": 123,
   "id": "a7df97e5-48e5-48d4-bb94-dd8abeab1dd1",
   "metadata": {},
   "outputs": [],
   "source": [
    "# mean_range = [0,20]\n",
    "# std_range = [0,5]"
   ]
  },
  {
   "cell_type": "code",
   "execution_count": 6,
   "id": "b6569f16-da8a-418e-adc7-89882e9d4747",
   "metadata": {},
   "outputs": [],
   "source": [
    "def lib_size_effect(scData, mean=4.5, scale=0.7):\n",
    "    ret_data = []\n",
    "    libFactors = np.random.lognormal(mean = mean, sigma = scale, size = (9, 300))\n",
    "    for binExprMatrix, binFactors in zip(scData, libFactors):\n",
    "        normalizFactors = np.sum(binExprMatrix, axis = 0)\n",
    "        binFactors = np.true_divide(binFactors, normalizFactors)\n",
    "        binFactors = binFactors.reshape(1, 300)\n",
    "        binFactors = np.repeat(binFactors, 100, axis = 0)\n",
    "        \n",
    "        ret_data.append(np.multiply(binExprMatrix, binFactors))\n",
    "\n",
    "    return libFactors, np.array(ret_data)"
   ]
  },
  {
   "cell_type": "code",
   "execution_count": 7,
   "id": "5206bf81-97a7-47bb-8728-2c3e93ee3aeb",
   "metadata": {},
   "outputs": [],
   "source": [
    "def dropout_indicator(scData, shape = 1, percentile = 45):\n",
    "        scData = np.array(scData)\n",
    "        scData_log = np.log(np.add(scData,1))\n",
    "        log_mid_point = np.percentile(scData_log, percentile)\n",
    "        prob_ber = np.true_divide (1, 1 + np.exp( -1*shape * (scData_log - log_mid_point) ))\n",
    "\n",
    "        binary_ind = np.random.binomial( n = 1, p = prob_ber)\n",
    "\n",
    "        return binary_ind"
   ]
  },
  {
   "cell_type": "code",
   "execution_count": 8,
   "id": "364cd4c9-1018-47ec-85da-1364f909cca4",
   "metadata": {},
   "outputs": [],
   "source": [
    "def convert_to_UMIcounts (scData):\n",
    "    return np.random.poisson (scData)"
   ]
  },
  {
   "cell_type": "code",
   "execution_count": 9,
   "id": "b13149a9-270e-4075-b77b-007a057dac60",
   "metadata": {},
   "outputs": [
    {
     "name": "stderr",
     "output_type": "stream",
     "text": [
      "100%|██████████| 10000/10000 [21:30<00:00,  7.75it/s]\n"
     ]
    }
   ],
   "source": [
    "x_train = []\n",
    "y_train = []\n",
    "for iters in tqdm(range(10000)):\n",
    "    y_means = np.random.uniform(0,20,(9,100))\n",
    "    y_factors = np.random.uniform(2,4,(9,100))\n",
    "    y_stds = y_means/y_factors\n",
    "    y_sums = np.transpose(np.tile(np.sum(y_means,axis=1),(100,1)))\n",
    "    y_means /= y_sums\n",
    "    y_stds /= y_sums\n",
    "    init_dataset = np.zeros((9,100,300))\n",
    "    for ct in range(9):\n",
    "        for g in range(100):\n",
    "            init_dataset[ct,g,:] = np.random.normal(loc=y_means[ct,g], scale=y_stds[ct,g], size=(300,))\n",
    "    init_dataset[init_dataset<0] = 0.0\n",
    "    \n",
    "    _, new_data = lib_size_effect(init_dataset)\n",
    "    \n",
    "    drop_data = dropout_indicator(new_data)\n",
    "    \n",
    "    final_data = convert_to_UMIcounts(drop_data).astype(float32)\n",
    "    \n",
    "    final_data[final_data==0] = np.nan\n",
    "    \n",
    "    x_means = np.zeros_like(y_means)\n",
    "    x_stds = np.zeros_like(y_means)\n",
    "    \n",
    "    for ct in range(9):\n",
    "        for g in range(100):\n",
    "            x_means[ct,g] = np.nanmean(final_data[ct,g,:])\n",
    "            x_stds[ct,g] = np.nanstd(final_data[ct,g,:])\n",
    "    \n",
    "    x = np.stack([x_means,x_stds],axis=0)\n",
    "    y = np.stack([y_means,y_stds],axis=0)\n",
    "\n",
    "    x_train.append(x)\n",
    "    y_train.append(y)"
   ]
  },
  {
   "cell_type": "code",
   "execution_count": 10,
   "id": "3f6ccee9-f60b-401b-b53f-5d3973cc45fe",
   "metadata": {},
   "outputs": [],
   "source": [
    "xtrain = np.array(x_train)\n",
    "ytrain = np.array(y_train)"
   ]
  },
  {
   "cell_type": "code",
   "execution_count": 11,
   "id": "28a47d3a-0ca9-4df5-8598-f74f4e2d878c",
   "metadata": {},
   "outputs": [
    {
     "name": "stdout",
     "output_type": "stream",
     "text": [
      "(10000, 2, 9, 100) (10000, 2, 9, 100)\n"
     ]
    }
   ],
   "source": [
    "print(xtrain.shape, ytrain.shape)"
   ]
  },
  {
   "cell_type": "code",
   "execution_count": 12,
   "id": "db3c9501-38d2-40a4-9821-7f9ccba4b2a1",
   "metadata": {},
   "outputs": [],
   "source": [
    "np.save('./xtrain.npy',xtrain)\n",
    "np.save('./ytrain.npy',ytrain)"
   ]
  },
  {
   "cell_type": "code",
   "execution_count": null,
   "id": "b4266a6a-6f83-4d5c-aa6e-78fb76eed127",
   "metadata": {},
   "outputs": [],
   "source": []
  }
 ],
 "metadata": {
  "kernelspec": {
   "display_name": "Python 3 (ipykernel)",
   "language": "python",
   "name": "python3"
  },
  "language_info": {
   "codemirror_mode": {
    "name": "ipython",
    "version": 3
   },
   "file_extension": ".py",
   "mimetype": "text/x-python",
   "name": "python",
   "nbconvert_exporter": "python",
   "pygments_lexer": "ipython3",
   "version": "3.10.14"
  }
 },
 "nbformat": 4,
 "nbformat_minor": 5
}
