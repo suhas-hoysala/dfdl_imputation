{
 "cells": [
  {
   "cell_type": "code",
   "execution_count": 1,
   "id": "15386a41-6f4b-4b88-b1af-18cba57ea6a4",
   "metadata": {},
   "outputs": [],
   "source": [
    "import numpy as np\n",
    "from tqdm import tqdm\n",
    "import torch\n",
    "import torch.nn as nn\n",
    "import torch.optim as optim\n",
    "from torch.utils.data import DataLoader, TensorDataset"
   ]
  },
  {
   "cell_type": "code",
   "execution_count": 2,
   "id": "3c840a1c-472b-4579-a71a-43e7392936de",
   "metadata": {},
   "outputs": [],
   "source": [
    "device = 'cuda'"
   ]
  },
  {
   "cell_type": "code",
   "execution_count": 3,
   "id": "dbc03e0b-be44-4d64-9bbd-00b73c72d71d",
   "metadata": {},
   "outputs": [],
   "source": [
    "x = np.load('./xtrain.npy')\n",
    "y = np.load('./ytrain.npy')"
   ]
  },
  {
   "cell_type": "code",
   "execution_count": 4,
   "id": "a2d9a2fa-f4ca-41f4-925d-3e0ece8cbfb3",
   "metadata": {},
   "outputs": [],
   "source": [
    "x = torch.tensor(x,dtype=torch.float32).to(device)\n",
    "y = torch.tensor(y,dtype=torch.float32).to(device)"
   ]
  },
  {
   "cell_type": "code",
   "execution_count": 8,
   "id": "c93677f0-a0fa-4a3c-9060-b36a809eab12",
   "metadata": {},
   "outputs": [],
   "source": [
    "# Create a dataset and dataloader\n",
    "dataset = TensorDataset(x, y)\n",
    "dataloader = DataLoader(dataset, batch_size=512, shuffle=True)"
   ]
  },
  {
   "cell_type": "code",
   "execution_count": 9,
   "id": "942aedbc-5df3-4263-a6c3-3c473d77f968",
   "metadata": {},
   "outputs": [],
   "source": [
    "# Define the MLP equivalent to sklearn's MLPRegressor\n",
    "class MLPRegressorPyTorch(nn.Module):\n",
    "    def __init__(self):\n",
    "        super(MLPRegressorPyTorch, self).__init__()\n",
    "        self.fc1 = nn.Linear(1800, 3600)  # Assuming input features are 10\n",
    "        self.fc2 = nn.Linear(3600, 7200)\n",
    "        self.fc3 = nn.Linear(7200, 14400)\n",
    "        self.fc4 = nn.Linear(14400, 7200)\n",
    "        self.fc5 = nn.Linear(7200, 3600)\n",
    "        self.out = nn.Linear(3600, 1800)   # Output layer\n",
    "\n",
    "        self.relu = nn.ReLU()\n",
    "\n",
    "    def forward(self, x):\n",
    "        x = self.relu(self.fc1(x))\n",
    "        x = self.relu(self.fc2(x))\n",
    "        x = self.relu(self.fc3(x))\n",
    "        x = self.relu(self.fc4(x))\n",
    "        x = self.relu(self.fc5(x))\n",
    "        x = self.out(x)  # No activation in the output layer for regression\n",
    "        return x"
   ]
  },
  {
   "cell_type": "code",
   "execution_count": 12,
   "id": "c2d3a8ee-a9da-4722-88f5-6ab296c36028",
   "metadata": {},
   "outputs": [],
   "source": [
    "# Initialize model, loss function, and optimizer\n",
    "model = MLPRegressorPyTorch().to(device)\n",
    "criterion = nn.MSELoss()  # Mean Squared Error Loss (similar to MLPRegressor)\n",
    "optimizer = optim.Adam(model.parameters(), lr=0.001)"
   ]
  },
  {
   "cell_type": "code",
   "execution_count": 13,
   "id": "14664039-820e-4aee-a90e-918c248a996c",
   "metadata": {
    "scrolled": true
   },
   "outputs": [
    {
     "name": "stdout",
     "output_type": "stream",
     "text": [
      "Epoch [1/100], Loss: 407.0677\n",
      "Epoch [2/100], Loss: 21.4492\n",
      "Epoch [3/100], Loss: 18.0115\n",
      "Epoch [4/100], Loss: 17.7517\n",
      "Epoch [5/100], Loss: 17.7235\n",
      "Epoch [6/100], Loss: 17.7195\n",
      "Epoch [7/100], Loss: 17.7209\n",
      "Epoch [8/100], Loss: 17.7225\n",
      "Epoch [9/100], Loss: 17.7235\n",
      "Epoch [10/100], Loss: 17.7218\n",
      "Epoch [11/100], Loss: 17.7239\n",
      "Epoch [12/100], Loss: 17.7252\n",
      "Epoch [13/100], Loss: 17.7256\n",
      "Epoch [14/100], Loss: 17.7242\n",
      "Epoch [15/100], Loss: 17.7260\n",
      "Epoch [16/100], Loss: 17.7259\n",
      "Epoch [17/100], Loss: 17.7282\n",
      "Epoch [18/100], Loss: 17.7265\n",
      "Epoch [19/100], Loss: 17.7269\n",
      "Epoch [20/100], Loss: 17.7256\n",
      "Epoch [21/100], Loss: 17.7273\n",
      "Epoch [22/100], Loss: 17.7261\n",
      "Epoch [23/100], Loss: 17.7246\n",
      "Epoch [24/100], Loss: 17.7277\n",
      "Epoch [25/100], Loss: 17.7278\n",
      "Epoch [26/100], Loss: 17.7278\n",
      "Epoch [27/100], Loss: 17.7271\n",
      "Epoch [28/100], Loss: 17.7287\n",
      "Epoch [29/100], Loss: 17.7267\n",
      "Epoch [30/100], Loss: 17.7271\n",
      "Epoch [31/100], Loss: 17.7267\n",
      "Epoch [32/100], Loss: 17.7289\n",
      "Epoch [33/100], Loss: 17.7267\n",
      "Epoch [34/100], Loss: 17.7314\n",
      "Epoch [35/100], Loss: 17.7271\n",
      "Epoch [36/100], Loss: 17.7274\n",
      "Epoch [37/100], Loss: 17.7258\n",
      "Epoch [38/100], Loss: 17.7273\n",
      "Epoch [39/100], Loss: 17.7314\n",
      "Epoch [40/100], Loss: 17.7257\n",
      "Epoch [41/100], Loss: 17.7249\n",
      "Epoch [42/100], Loss: 17.7272\n",
      "Epoch [43/100], Loss: 17.7255\n",
      "Epoch [44/100], Loss: 17.7311\n",
      "Epoch [45/100], Loss: 17.7270\n",
      "Epoch [46/100], Loss: 17.7291\n",
      "Epoch [47/100], Loss: 17.7260\n",
      "Epoch [48/100], Loss: 17.7279\n",
      "Epoch [49/100], Loss: 17.7314\n",
      "Epoch [50/100], Loss: 17.7275\n",
      "Epoch [51/100], Loss: 17.7275\n",
      "Epoch [52/100], Loss: 17.7292\n",
      "Epoch [53/100], Loss: 17.7334\n",
      "Epoch [54/100], Loss: 17.7286\n",
      "Epoch [55/100], Loss: 17.7272\n",
      "Epoch [56/100], Loss: 17.7326\n",
      "Epoch [57/100], Loss: 17.7281\n",
      "Epoch [58/100], Loss: 17.7462\n",
      "Epoch [59/100], Loss: 17.7461\n",
      "Epoch [60/100], Loss: 17.7385\n",
      "Epoch [61/100], Loss: 17.7417\n",
      "Epoch [62/100], Loss: 17.7350\n",
      "Epoch [63/100], Loss: 17.7318\n",
      "Epoch [64/100], Loss: 17.7360\n",
      "Epoch [65/100], Loss: 17.7704\n",
      "Epoch [66/100], Loss: 17.7315\n",
      "Epoch [67/100], Loss: 17.7348\n",
      "Epoch [68/100], Loss: 17.7381\n",
      "Epoch [69/100], Loss: 17.7271\n",
      "Epoch [70/100], Loss: 17.7301\n",
      "Epoch [71/100], Loss: 17.7258\n",
      "Epoch [72/100], Loss: 17.8110\n",
      "Epoch [73/100], Loss: 17.7532\n",
      "Epoch [74/100], Loss: 17.7332\n",
      "Epoch [75/100], Loss: 17.7322\n",
      "Epoch [76/100], Loss: 17.7404\n",
      "Epoch [77/100], Loss: 17.7336\n",
      "Epoch [78/100], Loss: 17.7480\n",
      "Epoch [79/100], Loss: 17.7291\n",
      "Epoch [80/100], Loss: 17.7322\n",
      "Epoch [81/100], Loss: 17.7526\n",
      "Epoch [82/100], Loss: 17.7768\n",
      "Epoch [83/100], Loss: 17.7453\n",
      "Epoch [84/100], Loss: 17.7695\n",
      "Epoch [85/100], Loss: 17.7427\n",
      "Epoch [86/100], Loss: 17.7364\n",
      "Epoch [87/100], Loss: 17.7320\n",
      "Epoch [88/100], Loss: 17.7335\n",
      "Epoch [89/100], Loss: 17.7591\n",
      "Epoch [90/100], Loss: 17.7535\n",
      "Epoch [91/100], Loss: 17.7318\n",
      "Epoch [92/100], Loss: 17.7328\n",
      "Epoch [93/100], Loss: 17.7445\n",
      "Epoch [94/100], Loss: 17.7467\n",
      "Epoch [95/100], Loss: 17.7359\n",
      "Epoch [96/100], Loss: 17.7481\n",
      "Epoch [97/100], Loss: 17.7957\n",
      "Epoch [98/100], Loss: 17.7763\n",
      "Epoch [99/100], Loss: 17.7268\n",
      "Epoch [100/100], Loss: 17.7298\n",
      "Training complete.\n"
     ]
    }
   ],
   "source": [
    "# Training loop\n",
    "num_epochs = 100  # You can adjust the number of epochs\n",
    "loss_min = 1e8\n",
    "for epoch in range(num_epochs):\n",
    "    total_loss = 0\n",
    "    for batch_x, batch_y in dataloader:\n",
    "        # Forward pass\n",
    "        outputs = model(batch_x)\n",
    "        loss = criterion(outputs, batch_y)\n",
    "        \n",
    "        # Backward pass and optimization\n",
    "        optimizer.zero_grad()\n",
    "        loss.backward()\n",
    "        optimizer.step()\n",
    "\n",
    "        total_loss += loss.item()\n",
    "\n",
    "        if(loss.item()<loss_min):\n",
    "            torch.save(model.state_dict(), './model_ds1.pth')\n",
    "            loss_min = loss.item()\n",
    "\n",
    "    print(f'Epoch [{epoch+1}/{num_epochs}], Loss: {total_loss/len(dataloader):.4f}')\n",
    "\n",
    "print(\"Training complete.\")"
   ]
  },
  {
   "cell_type": "code",
   "execution_count": null,
   "id": "5bde890d-d6f0-42e3-9bc6-4fae78364667",
   "metadata": {},
   "outputs": [],
   "source": []
  }
 ],
 "metadata": {
  "kernelspec": {
   "display_name": "Python 3 (ipykernel)",
   "language": "python",
   "name": "python3"
  },
  "language_info": {
   "codemirror_mode": {
    "name": "ipython",
    "version": 3
   },
   "file_extension": ".py",
   "mimetype": "text/x-python",
   "name": "python",
   "nbconvert_exporter": "python",
   "pygments_lexer": "ipython3",
   "version": "3.10.14"
  }
 },
 "nbformat": 4,
 "nbformat_minor": 5
}
