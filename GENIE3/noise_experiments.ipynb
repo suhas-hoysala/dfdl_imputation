{
 "cells": [
  {
   "cell_type": "code",
   "execution_count": 8,
   "id": "53df7839-6794-45e8-a088-5d06c2d167c5",
   "metadata": {},
   "outputs": [],
   "source": [
    "from GENIE3 import *\n",
    "import sys, os\n",
    "import numpy as np\n",
    "import pandas as pd\n",
    "import matplotlib.pyplot as plt\n",
    "from tqdm import tqdm"
   ]
  },
  {
   "cell_type": "code",
   "execution_count": 9,
   "id": "1539c84b-4e32-43f9-8564-a5a40f1f6d26",
   "metadata": {},
   "outputs": [
    {
     "data": {
      "text/plain": [
       "['/scratch/ab9738/dfdl_imputation/GENIE3',\n",
       " '/scratch/yz5944/miniconda3/envs/bio2/lib/python310.zip',\n",
       " '/scratch/yz5944/miniconda3/envs/bio2/lib/python3.10',\n",
       " '/scratch/yz5944/miniconda3/envs/bio2/lib/python3.10/lib-dynload',\n",
       " '',\n",
       " '/scratch/yz5944/miniconda3/envs/bio2/lib/python3.10/site-packages',\n",
       " '/scratch/ab9738/dfdl_imputation/GENIE3',\n",
       " '/scratch/ab9738/dfdl_imputation/GENIE3']"
      ]
     },
     "execution_count": 9,
     "metadata": {},
     "output_type": "execute_result"
    }
   ],
   "source": [
    "sys.path.append(os.getcwd())\n",
    "sys.path"
   ]
  },
  {
   "cell_type": "code",
   "execution_count": 11,
   "id": "f4be4d72-5dad-4a87-bdcd-5edca02fc974",
   "metadata": {},
   "outputs": [],
   "source": [
    "ds1_clean = np.transpose(np.load('../SERGIO/imputation_data/DS1/DS6_clean_iter_0.npy'))"
   ]
  },
  {
   "cell_type": "code",
   "execution_count": null,
   "id": "bbed18e0-8bf2-483c-bc90-17eed8750162",
   "metadata": {},
   "outputs": [],
   "source": []
  },
  {
   "cell_type": "code",
   "execution_count": null,
   "id": "a9530c56-b239-415a-83f4-ac4f92ff0288",
   "metadata": {},
   "outputs": [],
   "source": []
  }
 ],
 "metadata": {
  "kernelspec": {
   "display_name": "Python 3 (ipykernel)",
   "language": "python",
   "name": "python3"
  },
  "language_info": {
   "codemirror_mode": {
    "name": "ipython",
    "version": 3
   },
   "file_extension": ".py",
   "mimetype": "text/x-python",
   "name": "python",
   "nbconvert_exporter": "python",
   "pygments_lexer": "ipython3",
   "version": "3.10.14"
  }
 },
 "nbformat": 4,
 "nbformat_minor": 5
}
