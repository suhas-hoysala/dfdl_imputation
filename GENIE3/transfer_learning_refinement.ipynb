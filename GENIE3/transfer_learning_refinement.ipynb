{
 "cells": [
  {
   "cell_type": "markdown",
   "id": "7d9f4a57-0a1e-4a5b-a73c-a27deda848ba",
   "metadata": {},
   "source": [
    "# Imports"
   ]
  },
  {
   "cell_type": "code",
   "execution_count": 141,
   "id": "98f5c074-29a9-4ff5-be75-185fa2535e54",
   "metadata": {},
   "outputs": [],
   "source": [
    "from GENIE3 import *\n",
    "import sys, os\n",
    "sys.path.append(os.getcwd())\n",
    "sys.path.append('/scratch/ab9738/dfdl_imputation/')\n",
    "import numpy as np\n",
    "import pandas as pd\n",
    "import matplotlib.pyplot as plt\n",
    "from tqdm import tqdm\n",
    "import re\n",
    "from scipy import stats\n",
    "import SERGIO.SERGIO.sergio as sergio\n",
    "from sklearn.metrics import roc_auc_score, roc_curve\n",
    "from copy import deepcopy\n",
    "import torch\n",
    "import torch.nn as nn\n",
    "import torch.optim as optim\n",
    "from torch.utils.data import DataLoader, TensorDataset\n",
    "import torch.nn.functional as F\n",
    "from scipy.stats import pearsonr"
   ]
  },
  {
   "cell_type": "markdown",
   "id": "28b5ffdb-c1a6-4697-b627-8393d8674cda",
   "metadata": {},
   "source": [
    "# Load Data"
   ]
  },
  {
   "cell_type": "code",
   "execution_count": 11,
   "id": "9e7cf6cc-8593-4c1c-8738-300eefe01986",
   "metadata": {},
   "outputs": [],
   "source": [
    "# ds1_clean_1 = np.load('../SERGIO/imputation_data/DS1/iterations_seperate/DS6_clean_iter_1.npy')\n",
    "# ds1_expr_1 = np.load('../SERGIO/imputation_data/DS1/iterations_seperate/DS6_expr_iter_1.npy')\n",
    "# ds1_clean_2 = np.load('../SERGIO/imputation_data/DS1/iterations_seperate/DS6_clean_iter_2.npy')\n",
    "# ds1_expr_2 = np.load('../SERGIO/imputation_data/DS1/iterations_seperate/DS6_expr_iter_2.npy')\n",
    "# ds1_clean_3 = np.load('../SERGIO/imputation_data/DS1/iterations_seperate/DS6_clean_iter_3.npy')\n",
    "# ds1_expr_3 = np.load('../SERGIO/imputation_data/DS1/iterations_seperate/DS6_expr_iter_3.npy')\n",
    "# ds1_clean_4 = np.load('../SERGIO/imputation_data/DS1/iterations_seperate/DS6_clean_iter_4.npy')\n",
    "# ds1_expr_4 = np.load('../SERGIO/imputation_data/DS1/iterations_seperate/DS6_expr_iter_4.npy')\n",
    "# ds1_clean_5 = np.load('../SERGIO/imputation_data/DS1/iterations_seperate/DS6_clean_iter_5.npy')\n",
    "# ds1_expr_5 = np.load('../SERGIO/imputation_data/DS1/iterations_seperate/DS6_expr_iter_5.npy')"
   ]
  },
  {
   "cell_type": "code",
   "execution_count": 72,
   "id": "afc9da53-d452-4c98-ba9a-671eff69dc18",
   "metadata": {},
   "outputs": [],
   "source": [
    "ds2_clean_0 = np.load('../SERGIO/imputation_data/DS2/DS6_clean_iter_0.npy')\n",
    "ds2_expr_0 = np.load('../SERGIO/imputation_data/DS2/DS6_expr_iter_0.npy')\n",
    "ds2_clean_1 = np.load('../SERGIO/imputation_data/DS2/DS6_clean_iter_1.npy')\n",
    "ds2_expr_1 = np.load('../SERGIO/imputation_data/DS2/DS6_expr_iter_1.npy')\n",
    "ds2_clean_2 = np.load('../SERGIO/imputation_data/DS2/DS6_clean_iter_2.npy')\n",
    "ds2_expr_2 = np.load('../SERGIO/imputation_data/DS2/DS6_expr_iter_2.npy')"
   ]
  },
  {
   "cell_type": "markdown",
   "id": "5a82cf74-0fa5-4de4-bff9-5b864acb5875",
   "metadata": {},
   "source": [
    "# Load Simulation"
   ]
  },
  {
   "cell_type": "code",
   "execution_count": 73,
   "id": "9d4fb75e-5286-4356-a64d-76367af0a158",
   "metadata": {},
   "outputs": [],
   "source": [
    "def parse_dataset_name(folder_name):\n",
    "    pattern1 = r'De-noised_(\\d+)G_(\\d+)T_(\\d+)cPerT_dynamics_(\\d+)_DS(\\d+)'\n",
    "    pattern2 = r'De-noised_(\\d+)G_(\\d+)T_(\\d+)cPerT_(\\d+)_DS(\\d+)'\n",
    "    match_p1 = re.match(pattern1, folder_name)\n",
    "    match_p2 = re.match(pattern2, folder_name)\n",
    "    if match_p1:\n",
    "        return {\n",
    "            'number_genes': int(match_p1.group(1)),\n",
    "            'number_bins': int(match_p1.group(2)),\n",
    "            'number_sc': int(match_p1.group(3)),\n",
    "            'dynamics': int(match_p1.group(4)),\n",
    "            'dataset_id': int(match_p1.group(5)),\n",
    "            \"pattern\": \"De-noised_{number_genes}G_{number_bins}T_{number_sc}cPerT_dynamics_{dynamics}_DS{dataset_id}\"\n",
    "        }\n",
    "    if match_p2:\n",
    "        return {\n",
    "            'number_genes': int(match_p2.group(1)),\n",
    "            'number_bins': int(match_p2.group(2)),\n",
    "            'number_sc': int(match_p2.group(3)),\n",
    "            'dynamics': int(match_p2.group(4)),\n",
    "            'dataset_id': int(match_p2.group(5)),\n",
    "            \"pattern\": \"De-noised_{number_genes}G_{number_bins}T_{number_sc}cPerT_{dynamics}_DS{dataset_id}\"\n",
    "        }\n",
    "    return\n",
    "\n",
    "def get_datasets():\n",
    "    datasets = []\n",
    "    for folder_name in os.listdir('../SERGIO/data_sets'):\n",
    "        dataset_info = parse_dataset_name(folder_name)\n",
    "        if dataset_info:\n",
    "            datasets.append(dataset_info)\n",
    "    return sorted(datasets, key=lambda x: x['dataset_id'])"
   ]
  },
  {
   "cell_type": "code",
   "execution_count": 74,
   "id": "5acd01de-283f-4da5-a950-7d038dcc4f9a",
   "metadata": {},
   "outputs": [],
   "source": [
    "data_info = get_datasets()[1]"
   ]
  },
  {
   "cell_type": "code",
   "execution_count": 75,
   "id": "b44ce891-2b3f-48be-8fbe-90d4000d0315",
   "metadata": {},
   "outputs": [],
   "source": [
    "sim = sergio.sergio(\n",
    "        number_genes=data_info[\"number_genes\"],\n",
    "        number_bins=data_info[\"number_bins\"], \n",
    "        number_sc=data_info[\"number_sc\"],\n",
    "        noise_params=1,\n",
    "        decays=0.8, \n",
    "        sampling_state=15,\n",
    "        noise_type='dpd'\n",
    "    )"
   ]
  },
  {
   "cell_type": "markdown",
   "id": "6d4dd3c7-907c-4325-b57f-07a823127b38",
   "metadata": {},
   "source": [
    "# Ground Truth"
   ]
  },
  {
   "cell_type": "code",
   "execution_count": 162,
   "id": "83fde406-334d-4778-9393-199525375526",
   "metadata": {},
   "outputs": [],
   "source": [
    "target_file = '../SERGIO/data_sets/De-noised_100G_9T_300cPerT_4_DS1/Interaction_cID_4.txt'\n",
    "gt = np.zeros((100,100))"
   ]
  },
  {
   "cell_type": "code",
   "execution_count": 163,
   "id": "5ec70991-b808-40ce-b765-536f7d6a7ac7",
   "metadata": {},
   "outputs": [],
   "source": [
    "# target_file = '../SERGIO/data_sets/De-noised_400G_9T_300cPerT_5_DS2/Interaction_cID_5.txt'\n",
    "# gt = np.zeros((100,100))"
   ]
  },
  {
   "cell_type": "code",
   "execution_count": 164,
   "id": "8946b8a4-1819-47b4-8fab-6e7fdef6e3b3",
   "metadata": {},
   "outputs": [],
   "source": [
    "f = open(target_file,'r')\n",
    "Lines = f.readlines()\n",
    "f.close()\n",
    "for j in range(len(Lines)):\n",
    "    line = Lines[j]\n",
    "    line_list = line.split(',')\n",
    "    target_index = int(float(line_list[0]))\n",
    "    num_regs = int(float(line_list[1]))\n",
    "    for i in range(num_regs):\n",
    "        try:\n",
    "            reg_index = int(float(line_list[i+2]))\n",
    "            gt[reg_index,target_index] = 1 \n",
    "        except:\n",
    "            continue"
   ]
  },
  {
   "cell_type": "markdown",
   "id": "f17422fc-77ce-442c-a075-2a5ec169fab3",
   "metadata": {},
   "source": [
    "# Generate Noisy Data"
   ]
  },
  {
   "cell_type": "code",
   "execution_count": 78,
   "id": "9d8d15f7-3cf4-460d-ba98-387b9f8deb89",
   "metadata": {},
   "outputs": [],
   "source": [
    "def get_noisy_expr(sim, expr, percentile=45):\n",
    "    \"\"\"\n",
    "    Add outlier genes\n",
    "    \"\"\"\n",
    "    expr_O = sim.outlier_effect(expr, outlier_prob = 0.01, mean = 5, scale = 1)\n",
    "\n",
    "    \"\"\"\n",
    "    Add Library Size Effect\n",
    "    \"\"\"\n",
    "    libFactor, expr_O_L = sim.lib_size_effect(expr_O, mean = 4.5, scale = 0.7)\n",
    "\n",
    "    \"\"\"\n",
    "    Add Dropouts\n",
    "    \"\"\"\n",
    "    binary_ind = sim.dropout_indicator(expr_O_L, shape = 8, percentile = percentile)\n",
    "    expr_O_L_D = np.multiply(binary_ind, expr_O_L)\n",
    "\n",
    "    \"\"\"\n",
    "    Convert to UMI count\n",
    "    \"\"\"\n",
    "    expr_O_L_D_C = sim.convert_to_UMIcounts(expr_O_L_D)\n",
    "\n",
    "    return(expr_O_L_D_C)"
   ]
  },
  {
   "cell_type": "code",
   "execution_count": 12,
   "id": "4c31b780-7437-42ac-95fc-0bb97bf92a1a",
   "metadata": {},
   "outputs": [],
   "source": [
    "# ds1_noisy_1 = np.concatenate(get_noisy_expr(sim, ds1_expr_1), axis=1)\n",
    "# ds1_noisy_2 = np.concatenate(get_noisy_expr(sim, ds1_expr_2), axis=1)\n",
    "# ds1_noisy_3 = np.concatenate(get_noisy_expr(sim, ds1_expr_3), axis=1)\n",
    "# ds1_noisy_4 = np.concatenate(get_noisy_expr(sim, ds1_expr_4), axis=1)\n",
    "# ds1_noisy_5 = np.concatenate(get_noisy_expr(sim, ds1_expr_5), axis=1)"
   ]
  },
  {
   "cell_type": "code",
   "execution_count": 115,
   "id": "26be7fab-295c-4616-b985-e49c89d3dcb9",
   "metadata": {},
   "outputs": [],
   "source": [
    "ds2_noisy_0 = np.concatenate(get_noisy_expr(sim, ds2_expr_0), axis=1)\n",
    "ds2_noisy_1 = np.concatenate(get_noisy_expr(sim, ds2_expr_1), axis=1)\n",
    "ds2_noisy_2 = np.concatenate(get_noisy_expr(sim, ds2_expr_2), axis=1)"
   ]
  },
  {
   "cell_type": "markdown",
   "id": "ef5262fc-d414-413c-8e16-a422a6ba2b96",
   "metadata": {},
   "source": [
    "# Denoising by Substitution"
   ]
  },
  {
   "cell_type": "code",
   "execution_count": 13,
   "id": "cbaa72d0-de3a-48bd-b24f-a315f4f43bb8",
   "metadata": {},
   "outputs": [],
   "source": [
    "# def substitute_dataset(ds1):\n",
    "#     ds1[ds1 == 0] = np.nan\n",
    "#     for i in range(9):\n",
    "#         ds1_cell_type = ds1[:,i*300:(i+1)*300]\n",
    "#         mean_array = np.nanmean(ds1_cell_type, axis=1)\n",
    "#         var_array = np.nanvar(ds1_cell_type, axis=1)\n",
    "#         for j in range(100):\n",
    "#             ds1_cell_type[j,:] = np.random.normal(loc=mean_array[j],scale=np.sqrt(var_array[j]),size=300)\n",
    "#     ds1[ds1<0] = 0.0\n",
    "#     np.nan_to_num(ds1,copy=False)\n",
    "#     return(ds1)"
   ]
  },
  {
   "cell_type": "code",
   "execution_count": 131,
   "id": "d0a5e979-a4f9-445b-bdb1-d8b3d8f09913",
   "metadata": {},
   "outputs": [],
   "source": [
    "def substitute_dataset(ds2):\n",
    "    ds2[ds2 == 0] = np.nan\n",
    "    for i in range(9):\n",
    "        ds2_cell_type = ds2[:,i*300:(i+1)*300]\n",
    "        mean_array = np.nanmean(ds2_cell_type, axis=1)\n",
    "        var_array = np.nanvar(ds2_cell_type, axis=1)\n",
    "        var_array[var_array==0] = 0.05\n",
    "        for j in range(400):\n",
    "            ds2_cell_type[j,:] = np.random.normal(loc=mean_array[j],scale=np.sqrt(var_array[j]),size=300)\n",
    "    ds2[ds2<0] = 0.0\n",
    "    np.nan_to_num(ds2,copy=False,nan=0.0)\n",
    "    return(ds2)"
   ]
  },
  {
   "cell_type": "code",
   "execution_count": 129,
   "id": "1d471be8-da35-42dc-94ce-2965046e4678",
   "metadata": {},
   "outputs": [],
   "source": [
    "# ds1_substitute_1 = substitute_dataset(ds1_noisy_1.astype(float32))\n",
    "# ds1_substitute_2 = substitute_dataset(ds1_noisy_2.astype(float32))\n",
    "# ds1_substitute_3 = substitute_dataset(ds1_noisy_3.astype(float32))\n",
    "# ds1_substitute_4 = substitute_dataset(ds1_noisy_4.astype(float32))\n",
    "# ds1_substitute_5 = substitute_dataset(ds1_noisy_5.astype(float32))"
   ]
  },
  {
   "cell_type": "code",
   "execution_count": 132,
   "id": "cf19af46-bb78-40db-b5cf-72b975d148e8",
   "metadata": {},
   "outputs": [
    {
     "name": "stderr",
     "output_type": "stream",
     "text": [
      "/state/partition1/job-51088729/ipykernel_2226176/789259407.py:5: RuntimeWarning: Mean of empty slice\n",
      "  mean_array = np.nanmean(ds2_cell_type, axis=1)\n",
      "/state/partition1/job-51088729/ipykernel_2226176/789259407.py:6: RuntimeWarning: Degrees of freedom <= 0 for slice.\n",
      "  var_array = np.nanvar(ds2_cell_type, axis=1)\n"
     ]
    }
   ],
   "source": [
    "ds2_substitute_0 = substitute_dataset(ds2_noisy_0.astype(float32))\n",
    "ds2_substitute_1 = substitute_dataset(ds2_noisy_1.astype(float32))\n",
    "ds2_substitute_2 = substitute_dataset(ds2_noisy_2.astype(float32))"
   ]
  },
  {
   "cell_type": "markdown",
   "id": "2f29e506-e529-48c1-8584-5acefaa78f0d",
   "metadata": {},
   "source": [
    "# Generating VIMs"
   ]
  },
  {
   "cell_type": "code",
   "execution_count": 83,
   "id": "fe1ebdd5-fcf2-49d3-91ac-f6110f9af4e3",
   "metadata": {},
   "outputs": [],
   "source": [
    "# VIM_1 = GENIE3(np.transpose(ds1_substitute_1), nthreads=80, ntrees=100, regulators='all',\\\n",
    "#                         gene_names=[str(s) for s in range(np.transpose(ds1_substitute_1).shape[1])])\n",
    "# VIM_2 = GENIE3(np.transpose(ds1_substitute_2), nthreads=80, ntrees=100, regulators='all',\\\n",
    "#                         gene_names=[str(s) for s in range(np.transpose(ds1_substitute_2).shape[1])])\n",
    "# VIM_3 = GENIE3(np.transpose(ds1_substitute_3), nthreads=80, ntrees=100, regulators='all',\\\n",
    "#                         gene_names=[str(s) for s in range(np.transpose(ds1_substitute_3).shape[1])])\n",
    "# VIM_4 = GENIE3(np.transpose(ds1_substitute_4), nthreads=80, ntrees=100, regulators='all',\\\n",
    "#                         gene_names=[str(s) for s in range(np.transpose(ds1_substitute_4).shape[1])])\n",
    "# VIM_5 = GENIE3(np.transpose(ds1_substitute_5), nthreads=80, ntrees=100, regulators='all',\\\n",
    "#                         gene_names=[str(s) for s in range(np.transpose(ds1_substitute_5).shape[1])])"
   ]
  },
  {
   "cell_type": "code",
   "execution_count": 135,
   "id": "a44c3fd1-3656-4aae-9734-216de1a3280f",
   "metadata": {
    "scrolled": true
   },
   "outputs": [
    {
     "name": "stdout",
     "output_type": "stream",
     "text": [
      "Tree method: RF\n",
      "K: sqrt\n",
      "Number of trees: 100\n",
      "\n",
      "\n",
      "running jobs on 80 threads\n",
      "Elapsed time: 637.32 seconds\n",
      "Tree method: RF\n",
      "K: sqrt\n",
      "Number of trees: 100\n",
      "\n",
      "\n",
      "running jobs on 80 threads\n",
      "Elapsed time: 495.68 seconds\n",
      "Tree method: RF\n",
      "K: sqrt\n",
      "Number of trees: 100\n",
      "\n",
      "\n",
      "running jobs on 80 threads\n",
      "Elapsed time: 621.66 seconds\n"
     ]
    }
   ],
   "source": [
    "VIM_0 = GENIE3(np.transpose(ds2_substitute_0), nthreads=80, ntrees=100, regulators='all',\\\n",
    "                        gene_names=[str(s) for s in range(np.transpose(ds2_substitute_0).shape[1])])\n",
    "VIM_1 = GENIE3(np.transpose(ds2_substitute_1), nthreads=80, ntrees=100, regulators='all',\\\n",
    "                        gene_names=[str(s) for s in range(np.transpose(ds2_substitute_1).shape[1])])\n",
    "VIM_2 = GENIE3(np.transpose(ds2_substitute_2), nthreads=80, ntrees=100, regulators='all',\\\n",
    "                        gene_names=[str(s) for s in range(np.transpose(ds2_substitute_2).shape[1])])"
   ]
  },
  {
   "cell_type": "markdown",
   "id": "04f34918-8970-4c29-9bd7-f025062dc344",
   "metadata": {},
   "source": [
    "# Aggregation Boosting"
   ]
  },
  {
   "cell_type": "code",
   "execution_count": 136,
   "id": "7c0c8fd2-d93e-453a-916b-7de9a84ab896",
   "metadata": {},
   "outputs": [],
   "source": [
    "# roc_auc_score(gt.flatten(), (VIM_1+VIM_2+VIM_3+VIM_4+VIM_5).flatten())"
   ]
  },
  {
   "cell_type": "code",
   "execution_count": 137,
   "id": "83b86e6c-268e-4a25-9031-6925e725fcf4",
   "metadata": {},
   "outputs": [
    {
     "data": {
      "text/plain": [
       "0.5781322286053313"
      ]
     },
     "execution_count": 137,
     "metadata": {},
     "output_type": "execute_result"
    }
   ],
   "source": [
    "roc_auc_score(gt.flatten(), (VIM_0+VIM_1+VIM_2).flatten())"
   ]
  },
  {
   "cell_type": "code",
   "execution_count": 67,
   "id": "3588a88c-9108-4cba-8513-bcb9dedc5da3",
   "metadata": {},
   "outputs": [
    {
     "data": {
      "text/plain": [
       "0.603112840466926"
      ]
     },
     "execution_count": 67,
     "metadata": {},
     "output_type": "execute_result"
    }
   ],
   "source": [
    "# percentage recovery\n",
    "(0.588-0.433)/(0.690-0.433)"
   ]
  },
  {
   "cell_type": "code",
   "execution_count": 140,
   "id": "e10e612c-7843-49ef-a0a3-00a4a90f534e",
   "metadata": {},
   "outputs": [
    {
     "data": {
      "text/plain": [
       "0.5364386121186775"
      ]
     },
     "execution_count": 140,
     "metadata": {},
     "output_type": "execute_result"
    }
   ],
   "source": [
    "roc_auc_score(gt.flatten(), (VIM_2).flatten())"
   ]
  },
  {
   "cell_type": "markdown",
   "id": "a70765f1-b291-43df-9ac2-596097619947",
   "metadata": {},
   "source": [
    "# Pearson Correlation"
   ]
  },
  {
   "cell_type": "code",
   "execution_count": 144,
   "id": "b4ceba57-ad4c-4777-8e82-32ee2d3260b2",
   "metadata": {},
   "outputs": [],
   "source": [
    "def get_pearson_correlation(ds):\n",
    "    # Transpose the matrix so genes are in columns (cells in rows)\n",
    "    # Genes should be represented as columns for the vectorized Pearson correlation calculation\n",
    "    X = ds\n",
    "    \n",
    "    # Subtract the mean of each gene's expression values (rows)\n",
    "    X_mean = X - np.mean(X, axis=1, keepdims=True)\n",
    "    \n",
    "    # Calculate the numerator (covariance) of the Pearson correlation\n",
    "    cov_matrix = np.dot(X_mean, X_mean.T)\n",
    "    \n",
    "    # Calculate the denominator (product of standard deviations)\n",
    "    std_devs = np.linalg.norm(X_mean, axis=1, keepdims=True)\n",
    "    denominator = np.dot(std_devs, std_devs.T)\n",
    "    \n",
    "    # Avoid division by zero for genes with no variance (constant expression across cells)\n",
    "    denominator[denominator == 0] = 1  # To prevent divide by zero\n",
    "    \n",
    "    # Calculate the Pearson correlation matrix\n",
    "    gene_gene_corr_matrix = cov_matrix / denominator\n",
    "    \n",
    "    # Print the gene-gene Pearson correlation matrix\n",
    "    return(gene_gene_corr_matrix)"
   ]
  },
  {
   "cell_type": "code",
   "execution_count": 157,
   "id": "63620312-e1b4-424c-bc0a-1a36ff068cf3",
   "metadata": {},
   "outputs": [],
   "source": [
    "VIM_1 = get_pearson_correlation(ds1_substitute_1)\n",
    "VIM_2 = get_pearson_correlation(ds1_substitute_2)\n",
    "VIM_3 = get_pearson_correlation(ds1_substitute_3)\n",
    "VIM_4 = get_pearson_correlation(ds1_substitute_4)\n",
    "VIM_5 = get_pearson_correlation(ds1_substitute_5)"
   ]
  },
  {
   "cell_type": "code",
   "execution_count": 173,
   "id": "40998b96-c8d5-44bb-8f00-4436cdf6948f",
   "metadata": {},
   "outputs": [
    {
     "data": {
      "text/plain": [
       "0.5350571886453445"
      ]
     },
     "execution_count": 173,
     "metadata": {},
     "output_type": "execute_result"
    }
   ],
   "source": [
    "roc_auc_score(gt.flatten(), (VIM_1+VIM_2+VIM_3+VIM_4+VIM_5).flatten())"
   ]
  },
  {
   "cell_type": "code",
   "execution_count": null,
   "id": "d2839a97-b606-4c58-9771-535defb3d10d",
   "metadata": {},
   "outputs": [],
   "source": []
  }
 ],
 "metadata": {
  "kernelspec": {
   "display_name": "Python 3 (ipykernel)",
   "language": "python",
   "name": "python3"
  },
  "language_info": {
   "codemirror_mode": {
    "name": "ipython",
    "version": 3
   },
   "file_extension": ".py",
   "mimetype": "text/x-python",
   "name": "python",
   "nbconvert_exporter": "python",
   "pygments_lexer": "ipython3",
   "version": "3.10.14"
  }
 },
 "nbformat": 4,
 "nbformat_minor": 5
}
