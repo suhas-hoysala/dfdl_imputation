{
 "cells": [
  {
   "cell_type": "code",
   "execution_count": 1,
   "id": "349975fd-c2e5-4cf3-ab17-60a91f56ef53",
   "metadata": {},
   "outputs": [],
   "source": [
    "from GENIE3 import *\n",
    "import sys, os\n",
    "sys.path.append(os.getcwd())\n",
    "sys.path.append('/scratch/ab9738/dfdl_imputation/')\n",
    "import numpy as np\n",
    "import pandas as pd\n",
    "import matplotlib.pyplot as plt\n",
    "from tqdm import tqdm\n",
    "import re\n",
    "from scipy import stats\n",
    "import SERGIO.SERGIO.sergio as sergio\n",
    "from sklearn.metrics import roc_auc_score\n",
    "from copy import deepcopy"
   ]
  },
  {
   "cell_type": "code",
   "execution_count": 2,
   "id": "eaa26e19-853c-4117-b89d-0b24f86e0607",
   "metadata": {},
   "outputs": [],
   "source": [
    "ds1_clean = np.load('../SERGIO/imputation_data/DS1/DS6_clean_iter_0.npy')\n",
    "ds1_expr = np.load('../SERGIO/imputation_data/DS1/DS6_expr_iter_0.npy')"
   ]
  },
  {
   "cell_type": "markdown",
   "id": "74f46263-876e-402c-97b3-65c9ccf72afc",
   "metadata": {},
   "source": [
    "# Load Simulation"
   ]
  },
  {
   "cell_type": "code",
   "execution_count": 3,
   "id": "bf4c5645-f4ea-4dc0-a36e-b32344a1fee6",
   "metadata": {},
   "outputs": [],
   "source": [
    "def parse_dataset_name(folder_name):\n",
    "    pattern1 = r'De-noised_(\\d+)G_(\\d+)T_(\\d+)cPerT_dynamics_(\\d+)_DS(\\d+)'\n",
    "    pattern2 = r'De-noised_(\\d+)G_(\\d+)T_(\\d+)cPerT_(\\d+)_DS(\\d+)'\n",
    "    match_p1 = re.match(pattern1, folder_name)\n",
    "    match_p2 = re.match(pattern2, folder_name)\n",
    "    if match_p1:\n",
    "        return {\n",
    "            'number_genes': int(match_p1.group(1)),\n",
    "            'number_bins': int(match_p1.group(2)),\n",
    "            'number_sc': int(match_p1.group(3)),\n",
    "            'dynamics': int(match_p1.group(4)),\n",
    "            'dataset_id': int(match_p1.group(5)),\n",
    "            \"pattern\": \"De-noised_{number_genes}G_{number_bins}T_{number_sc}cPerT_dynamics_{dynamics}_DS{dataset_id}\"\n",
    "        }\n",
    "    if match_p2:\n",
    "        return {\n",
    "            'number_genes': int(match_p2.group(1)),\n",
    "            'number_bins': int(match_p2.group(2)),\n",
    "            'number_sc': int(match_p2.group(3)),\n",
    "            'dynamics': int(match_p2.group(4)),\n",
    "            'dataset_id': int(match_p2.group(5)),\n",
    "            \"pattern\": \"De-noised_{number_genes}G_{number_bins}T_{number_sc}cPerT_{dynamics}_DS{dataset_id}\"\n",
    "        }\n",
    "    return\n",
    "\n",
    "def get_datasets():\n",
    "    datasets = []\n",
    "    for folder_name in os.listdir('../SERGIO/data_sets'):\n",
    "        dataset_info = parse_dataset_name(folder_name)\n",
    "        if dataset_info:\n",
    "            datasets.append(dataset_info)\n",
    "    return sorted(datasets, key=lambda x: x['dataset_id'])"
   ]
  },
  {
   "cell_type": "code",
   "execution_count": 5,
   "id": "78ccc783-6009-40d0-b379-7a22e0cdc279",
   "metadata": {},
   "outputs": [],
   "source": [
    "data_info = get_datasets()[0]"
   ]
  },
  {
   "cell_type": "code",
   "execution_count": 6,
   "id": "be4a7937-4f2e-4e3a-8a55-1f69a528dd89",
   "metadata": {},
   "outputs": [],
   "source": [
    "sim = sergio.sergio(\n",
    "        number_genes=data_info[\"number_genes\"],\n",
    "        number_bins=data_info[\"number_bins\"], \n",
    "        number_sc=data_info[\"number_sc\"],\n",
    "        noise_params=1,\n",
    "        decays=0.8, \n",
    "        sampling_state=15,\n",
    "        noise_type='dpd'\n",
    "    )"
   ]
  },
  {
   "cell_type": "markdown",
   "id": "213cff09-e6db-42fb-87e6-36fa5b32660e",
   "metadata": {},
   "source": [
    "# Ground Truth"
   ]
  },
  {
   "cell_type": "code",
   "execution_count": 7,
   "id": "81b3d823-400d-4fa9-b1b8-7d6597f0ddd6",
   "metadata": {},
   "outputs": [],
   "source": [
    "target_file = '../SERGIO/data_sets/De-noised_100G_9T_300cPerT_4_DS1/Interaction_cID_4.txt'\n",
    "gt = np.zeros((100,100))"
   ]
  },
  {
   "cell_type": "code",
   "execution_count": 8,
   "id": "b887d9fa-92df-4dcc-9955-7d4042a3f735",
   "metadata": {},
   "outputs": [],
   "source": [
    "# target_file = '../SERGIO/data_sets/De-noised_400G_9T_300cPerT_5_DS2/Interaction_cID_5.txt'\n",
    "# gt = np.zeros((100,100))"
   ]
  },
  {
   "cell_type": "code",
   "execution_count": 9,
   "id": "ff0634a4-5266-4512-ac32-c0a5dcec0560",
   "metadata": {},
   "outputs": [],
   "source": [
    "f = open(target_file,'r')\n",
    "Lines = f.readlines()\n",
    "f.close()\n",
    "for j in range(len(Lines)):\n",
    "    line = Lines[j]\n",
    "    line_list = line.split(',')\n",
    "    target_index = int(float(line_list[0]))\n",
    "    num_regs = int(float(line_list[1]))\n",
    "    for i in range(num_regs):\n",
    "        try:\n",
    "            reg_index = int(float(line_list[i+2]))\n",
    "            gt[reg_index,target_index] = 1 \n",
    "        except:\n",
    "            continue"
   ]
  },
  {
   "cell_type": "markdown",
   "id": "bc30f8c4-1340-47ee-bc1e-7ca178638bef",
   "metadata": {},
   "source": [
    "# Generate Noisy Data"
   ]
  },
  {
   "cell_type": "code",
   "execution_count": 10,
   "id": "6b7e003d-69d9-4355-9503-a16afc6ea185",
   "metadata": {},
   "outputs": [],
   "source": [
    "def get_noisy_expr(sim, expr, percentile=45):\n",
    "    \"\"\"\n",
    "    Add outlier genes\n",
    "    \"\"\"\n",
    "    expr_O = sim.outlier_effect(expr, outlier_prob = 0.01, mean = 5, scale = 1)\n",
    "\n",
    "    \"\"\"\n",
    "    Add Library Size Effect\n",
    "    \"\"\"\n",
    "    libFactor, expr_O_L = sim.lib_size_effect(expr_O, mean = 4.5, scale = 0.7)\n",
    "\n",
    "    \"\"\"\n",
    "    Add Dropouts\n",
    "    \"\"\"\n",
    "    binary_ind = sim.dropout_indicator(expr_O_L, shape = 8, percentile = percentile)\n",
    "    expr_O_L_D = np.multiply(binary_ind, expr_O_L)\n",
    "\n",
    "    \"\"\"\n",
    "    Convert to UMI count\n",
    "    \"\"\"\n",
    "    expr_O_L_D_C = sim.convert_to_UMIcounts(expr_O_L_D)\n",
    "\n",
    "    return(expr_O_L_D_C)"
   ]
  },
  {
   "cell_type": "code",
   "execution_count": 12,
   "id": "d4d0336f-96b6-44c0-beab-11ad5d372330",
   "metadata": {},
   "outputs": [],
   "source": [
    "ds1_noisy_1 = np.concatenate(get_noisy_expr(sim, ds1_expr), axis=1)\n",
    "ds1_noisy_2 = np.concatenate(get_noisy_expr(sim, ds1_expr), axis=1)\n",
    "ds1_noisy_3 = np.concatenate(get_noisy_expr(sim, ds1_expr), axis=1)\n",
    "ds1_noisy_4 = np.concatenate(get_noisy_expr(sim, ds1_expr), axis=1)\n",
    "ds1_noisy_5 = np.concatenate(get_noisy_expr(sim, ds1_expr), axis=1)"
   ]
  },
  {
   "cell_type": "code",
   "execution_count": 43,
   "id": "9b2426a5-fa20-4183-abe4-2d27e629043f",
   "metadata": {},
   "outputs": [],
   "source": [
    "ds1_noisy = np.concatenate([ds1_noisy_1,ds1_noisy_2,ds1_noisy_3,ds1_noisy_4,ds1_noisy_5], axis=1)"
   ]
  },
  {
   "cell_type": "code",
   "execution_count": 13,
   "id": "bb322cbc-fc3c-48e3-97dd-017ba5df62b6",
   "metadata": {},
   "outputs": [],
   "source": [
    "def substitute_dataset(ds1):\n",
    "    ds1[ds1 == 0] = np.nan\n",
    "    for i in range(9):\n",
    "        ds1_cell_type = ds1[:,i*300:(i+1)*300]\n",
    "        mean_array = np.nanmean(ds1_cell_type, axis=1)\n",
    "        var_array = np.nanvar(ds1_cell_type, axis=1)\n",
    "        for j in range(100):\n",
    "            ds1_cell_type[j,:] = np.random.normal(loc=mean_array[j],scale=np.sqrt(var_array[j]),size=300)\n",
    "    ds1[ds1<0] = 0.0\n",
    "    np.nan_to_num(ds1,copy=False)\n",
    "    return(ds1)"
   ]
  },
  {
   "cell_type": "code",
   "execution_count": 47,
   "id": "3809f6c2-f66e-4765-9b66-5f5074e3b9bc",
   "metadata": {},
   "outputs": [
    {
     "name": "stderr",
     "output_type": "stream",
     "text": [
      "/state/partition1/job-51167400/ipykernel_3583485/4258177860.py:5: RuntimeWarning: Mean of empty slice\n",
      "  mean_array = np.nanmean(ds1_cell_type, axis=1)\n",
      "/state/partition1/job-51167400/ipykernel_3583485/4258177860.py:6: RuntimeWarning: Degrees of freedom <= 0 for slice.\n",
      "  var_array = np.nanvar(ds1_cell_type, axis=1)\n"
     ]
    }
   ],
   "source": [
    "ds1_substitute_1 = substitute_dataset(ds1_noisy_1.astype(float32))\n",
    "ds1_substitute_2 = substitute_dataset(ds1_noisy_2.astype(float32))\n",
    "ds1_substitute_3 = substitute_dataset(ds1_noisy_3.astype(float32))\n",
    "ds1_substitute_4 = substitute_dataset(ds1_noisy_4.astype(float32))\n",
    "ds1_substitute_5 = substitute_dataset(ds1_noisy_5.astype(float32))"
   ]
  },
  {
   "cell_type": "code",
   "execution_count": 48,
   "id": "8cfaf7ef-b4a5-48be-ac01-f1cf31e13ba3",
   "metadata": {},
   "outputs": [],
   "source": [
    "ds1_substitute = np.concatenate([ds1_substitute_1,ds1_substitute_2,ds1_substitute_3,ds1_substitute_4,ds1_substitute_5], axis=1)"
   ]
  },
  {
   "cell_type": "code",
   "execution_count": 23,
   "id": "9b1f39a6-f38a-4a97-bd0a-c87d0a65bab1",
   "metadata": {},
   "outputs": [
    {
     "name": "stdout",
     "output_type": "stream",
     "text": [
      "Tree method: RF\n",
      "K: sqrt\n",
      "Number of trees: 100\n",
      "\n",
      "\n",
      "running jobs on 80 threads\n",
      "Elapsed time: 67.64 seconds\n",
      "Tree method: RF\n",
      "K: sqrt\n",
      "Number of trees: 100\n",
      "\n",
      "\n",
      "running jobs on 80 threads\n",
      "Elapsed time: 84.82 seconds\n",
      "Tree method: RF\n",
      "K: sqrt\n",
      "Number of trees: 100\n",
      "\n",
      "\n",
      "running jobs on 80 threads\n",
      "Elapsed time: 69.46 seconds\n",
      "Tree method: RF\n",
      "K: sqrt\n",
      "Number of trees: 100\n",
      "\n",
      "\n",
      "running jobs on 80 threads\n",
      "Elapsed time: 75.47 seconds\n",
      "Tree method: RF\n",
      "K: sqrt\n",
      "Number of trees: 100\n",
      "\n",
      "\n",
      "running jobs on 80 threads\n",
      "Elapsed time: 67.65 seconds\n"
     ]
    }
   ],
   "source": [
    "VIM_1 = GENIE3(np.transpose(ds1_substitute_1), nthreads=80, ntrees=100, regulators='all',\\\n",
    "                        gene_names=[str(s) for s in range(np.transpose(ds1_substitute_1).shape[1])])\n",
    "VIM_2 = GENIE3(np.transpose(ds1_substitute_2), nthreads=80, ntrees=100, regulators='all',\\\n",
    "                        gene_names=[str(s) for s in range(np.transpose(ds1_substitute_2).shape[1])])\n",
    "VIM_3 = GENIE3(np.transpose(ds1_substitute_3), nthreads=80, ntrees=100, regulators='all',\\\n",
    "                        gene_names=[str(s) for s in range(np.transpose(ds1_substitute_3).shape[1])])\n",
    "VIM_4 = GENIE3(np.transpose(ds1_substitute_4), nthreads=80, ntrees=100, regulators='all',\\\n",
    "                        gene_names=[str(s) for s in range(np.transpose(ds1_substitute_4).shape[1])])\n",
    "VIM_5 = GENIE3(np.transpose(ds1_substitute_5), nthreads=80, ntrees=100, regulators='all',\\\n",
    "                        gene_names=[str(s) for s in range(np.transpose(ds1_substitute_5).shape[1])])"
   ]
  },
  {
   "cell_type": "code",
   "execution_count": 37,
   "id": "6796f28e-5f44-421f-ae3f-4463f398c417",
   "metadata": {},
   "outputs": [
    {
     "data": {
      "text/plain": [
       "0.538589405101224"
      ]
     },
     "execution_count": 37,
     "metadata": {},
     "output_type": "execute_result"
    }
   ],
   "source": [
    "roc_auc_score(gt.flatten(), VIM_5.flatten())"
   ]
  },
  {
   "cell_type": "code",
   "execution_count": 36,
   "id": "5fba392f-7117-4a6b-9db6-e8a66d65a73c",
   "metadata": {},
   "outputs": [
    {
     "data": {
      "text/plain": [
       "0.5355119446049154"
      ]
     },
     "execution_count": 36,
     "metadata": {},
     "output_type": "execute_result"
    }
   ],
   "source": [
    "roc_auc_score(gt.flatten(), (VIM_2+VIM_3+VIM_5).flatten())"
   ]
  },
  {
   "cell_type": "code",
   "execution_count": 44,
   "id": "cabe2677-5a03-49a4-8876-a9d8c550b264",
   "metadata": {},
   "outputs": [
    {
     "name": "stdout",
     "output_type": "stream",
     "text": [
      "Tree method: RF\n",
      "K: sqrt\n",
      "Number of trees: 100\n",
      "\n",
      "\n",
      "running jobs on 80 threads\n",
      "Elapsed time: 77.90 seconds\n"
     ]
    }
   ],
   "source": [
    "VIM_1 = GENIE3(np.transpose(ds1_noisy), nthreads=80, ntrees=100, regulators='all',\\\n",
    "                        gene_names=[str(s) for s in range(np.transpose(ds1_noisy).shape[1])])"
   ]
  },
  {
   "cell_type": "code",
   "execution_count": 46,
   "id": "fd044ed0-93b1-4afe-adbd-7e0f7e5ce271",
   "metadata": {},
   "outputs": [
    {
     "data": {
      "text/plain": [
       "0.4988370501576329"
      ]
     },
     "execution_count": 46,
     "metadata": {},
     "output_type": "execute_result"
    }
   ],
   "source": [
    "roc_auc_score(gt.flatten(), VIM_1.flatten())"
   ]
  },
  {
   "cell_type": "code",
   "execution_count": 49,
   "id": "924ffa7f-1db3-4932-9001-6f9b10234af9",
   "metadata": {},
   "outputs": [
    {
     "name": "stdout",
     "output_type": "stream",
     "text": [
      "Tree method: RF\n",
      "K: sqrt\n",
      "Number of trees: 100\n",
      "\n",
      "\n",
      "running jobs on 80 threads\n",
      "Elapsed time: 431.39 seconds\n"
     ]
    }
   ],
   "source": [
    "VIM_2 = GENIE3(np.transpose(ds1_substitute), nthreads=80, ntrees=100, regulators='all',\\\n",
    "                        gene_names=[str(s) for s in range(np.transpose(ds1_substitute).shape[1])])"
   ]
  },
  {
   "cell_type": "code",
   "execution_count": 50,
   "id": "977240bf-7bd5-44f0-b8a2-2f78c7a97d4f",
   "metadata": {},
   "outputs": [
    {
     "data": {
      "text/plain": [
       "0.5008064657305776"
      ]
     },
     "execution_count": 50,
     "metadata": {},
     "output_type": "execute_result"
    }
   ],
   "source": [
    "roc_auc_score(gt.flatten(), VIM_2.flatten())"
   ]
  },
  {
   "cell_type": "code",
   "execution_count": null,
   "id": "8a209809-5835-4024-a404-f5952b1d0484",
   "metadata": {},
   "outputs": [],
   "source": []
  }
 ],
 "metadata": {
  "kernelspec": {
   "display_name": "Python 3 (ipykernel)",
   "language": "python",
   "name": "python3"
  },
  "language_info": {
   "codemirror_mode": {
    "name": "ipython",
    "version": 3
   },
   "file_extension": ".py",
   "mimetype": "text/x-python",
   "name": "python",
   "nbconvert_exporter": "python",
   "pygments_lexer": "ipython3",
   "version": "3.10.14"
  }
 },
 "nbformat": 4,
 "nbformat_minor": 5
}
