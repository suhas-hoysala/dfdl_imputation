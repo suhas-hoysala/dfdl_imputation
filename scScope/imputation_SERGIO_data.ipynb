{
 "cells": [
  {
   "cell_type": "code",
   "execution_count": 1,
   "id": "946fb96b",
   "metadata": {},
   "outputs": [],
   "source": [
    "%load_ext autoreload\n",
    "\n",
    "%autoreload 2"
   ]
  },
  {
   "cell_type": "code",
   "execution_count": 9,
   "id": "75e2c561",
   "metadata": {},
   "outputs": [],
   "source": [
    "import sys, os\n",
    "import numpy as np\n",
    "import scscope.scscope as DeepImpute\n",
    "sys.path.append(os.getcwd())"
   ]
  },
  {
   "cell_type": "code",
   "execution_count": 10,
   "id": "6734ce6a",
   "metadata": {},
   "outputs": [
    {
     "name": "stdout",
     "output_type": "stream",
     "text": [
      "(2700, 1200) (2700, 1200)\n"
     ]
    }
   ],
   "source": [
    "x = np.transpose(np.load('../SERGIO/imputation_data/DS6_clean_counts.npy'))\n",
    "y = np.transpose(np.load('../SERGIO/imputation_data/DS6_45.npy'))\n",
    "print(x.shape, y.shape)"
   ]
  },
  {
   "cell_type": "code",
   "execution_count": 11,
   "id": "8abf4176",
   "metadata": {},
   "outputs": [
    {
     "name": "stdout",
     "output_type": "stream",
     "text": [
      "Building Computational Graph on GPU-0\n",
      "Finisheded epoch: 100\n",
      "Current reconstruction error is: 0.1360136912280889\n",
      "Finisheded epoch: 200\n",
      "Current reconstruction error is: 0.12071669287725845\n",
      "Finisheded epoch: 300\n",
      "Current reconstruction error is: 0.10749504854696575\n",
      "Finisheded epoch: 400\n",
      "Current reconstruction error is: 0.09255743062529218\n",
      "Finisheded epoch: 500\n",
      "Current reconstruction error is: 0.0817987305047107\n",
      "Finisheded epoch: 600\n",
      "Current reconstruction error is: 0.07343133707594413\n",
      "Finisheded epoch: 700\n",
      "Current reconstruction error is: 0.06640436175148631\n",
      "Finisheded epoch: 800\n",
      "Current reconstruction error is: 0.06034874729253929\n",
      "Finisheded epoch: 900\n",
      "Current reconstruction error is: 0.05570779302444946\n",
      "Finisheded epoch: 1000\n",
      "Current reconstruction error is: 0.05205059539619948\n",
      "Finish training 2700 samples after 1000 epochs. The total training time is 82.47986102104187 seconds.\n"
     ]
    }
   ],
   "source": [
    "DI_model = DeepImpute.train(\n",
    "          y,\n",
    "          15,\n",
    "          use_mask=True,\n",
    "          batch_size=64,\n",
    "          max_epoch=1000,\n",
    "          epoch_per_check=100,\n",
    "          T=2,\n",
    "          exp_batch_idx_input=[],\n",
    "          encoder_layers=[],\n",
    "          decoder_layers=[],\n",
    "          learning_rate=0.0001,\n",
    "          beta1=0.05,\n",
    "          num_gpus=1)"
   ]
  },
  {
   "cell_type": "code",
   "execution_count": 12,
   "id": "904cf22f",
   "metadata": {},
   "outputs": [],
   "source": [
    "latent_code, rec_y, _ = DeepImpute.predict(y, DI_model, batch_effect=[])"
   ]
  },
  {
   "cell_type": "code",
   "execution_count": 13,
   "id": "2394d293",
   "metadata": {},
   "outputs": [
    {
     "data": {
      "text/plain": [
       "array([[1.3935256 , 0.        , 0.9904552 , ..., 0.88564485, 0.19913273,\n",
       "        1.7090569 ],\n",
       "       [0.        , 0.        , 0.7607113 , ..., 1.1975504 , 1.0963066 ,\n",
       "        1.0376759 ],\n",
       "       [0.        , 0.        , 1.0881109 , ..., 1.0292485 , 1.0711211 ,\n",
       "        1.727076  ],\n",
       "       ...,\n",
       "       [0.        , 0.        , 1.0420675 , ..., 0.89840674, 0.91130304,\n",
       "        0.9853513 ],\n",
       "       [0.        , 0.        , 0.9368703 , ..., 0.96824765, 0.79388946,\n",
       "        2.6447158 ],\n",
       "       [1.1498646 , 0.        , 0.9823427 , ..., 0.822421  , 0.42407382,\n",
       "        0.3384273 ]], dtype=float32)"
      ]
     },
     "execution_count": 13,
     "metadata": {},
     "output_type": "execute_result"
    }
   ],
   "source": [
    "rec_y"
   ]
  },
  {
   "cell_type": "code",
   "execution_count": 14,
   "id": "53333ce2-95c9-43f3-8a29-9691ace27489",
   "metadata": {},
   "outputs": [
    {
     "data": {
      "text/plain": [
       "0.21593518518518517"
      ]
     },
     "execution_count": 14,
     "metadata": {},
     "output_type": "execute_result"
    }
   ],
   "source": [
    "len(np.where(rec_y == 0)[0]) / (y.shape[0] * y.shape[1])"
   ]
  },
  {
   "cell_type": "code",
   "execution_count": 15,
   "id": "4b74670b",
   "metadata": {},
   "outputs": [],
   "source": [
    "np.save('yhat_scScope',rec_y)"
   ]
  },
  {
   "cell_type": "code",
   "execution_count": null,
   "id": "f3f1e2ad-55ce-468c-ad27-e5717922076d",
   "metadata": {},
   "outputs": [],
   "source": []
  }
 ],
 "metadata": {
  "kernelspec": {
   "display_name": "Python 3 (ipykernel)",
   "language": "python",
   "name": "python3"
  },
  "language_info": {
   "codemirror_mode": {
    "name": "ipython",
    "version": 3
   },
   "file_extension": ".py",
   "mimetype": "text/x-python",
   "name": "python",
   "nbconvert_exporter": "python",
   "pygments_lexer": "ipython3",
   "version": "3.9.13"
  }
 },
 "nbformat": 4,
 "nbformat_minor": 5
}
