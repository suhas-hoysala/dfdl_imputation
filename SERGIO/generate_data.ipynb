{
 "cells": [
  {
   "cell_type": "code",
   "execution_count": 23,
   "id": "ee938a37-5b35-41f4-8b58-c4953eed3955",
   "metadata": {},
   "outputs": [],
   "source": [
    "import numpy as np\n",
    "import pandas as pd\n",
    "from SERGIO.sergio import sergio\n",
    "import re\n",
    "import os\n",
    "from scipy import stats\n",
    "from tqdm import tqdm"
   ]
  },
  {
   "cell_type": "markdown",
   "id": "788e8dab-8951-411f-82bf-4ec19e73e356",
   "metadata": {},
   "source": [
    "# Simulate Clean Data _ Steady-State Simulation"
   ]
  },
  {
   "cell_type": "code",
   "execution_count": 24,
   "id": "4e7bb3f9",
   "metadata": {},
   "outputs": [],
   "source": [
    "def parse_dataset_name(folder_name):\n",
    "    pattern1 = r'De-noised_(\\d+)G_(\\d+)T_(\\d+)cPerT_dynamics_(\\d+)_DS(\\d+)'\n",
    "    pattern2 = r'De-noised_(\\d+)G_(\\d+)T_(\\d+)cPerT_(\\d+)_DS(\\d+)'\n",
    "    match_p1 = re.match(pattern1, folder_name)\n",
    "    match_p2 = re.match(pattern2, folder_name)\n",
    "    if match_p1:\n",
    "        return {\n",
    "            'number_genes': int(match_p1.group(1)),\n",
    "            'number_bins': int(match_p1.group(2)),\n",
    "            'number_sc': int(match_p1.group(3)),\n",
    "            'dynamics': int(match_p1.group(4)),\n",
    "            'dataset_id': int(match_p1.group(5)),\n",
    "            \"pattern\": \"De-noised_{number_genes}G_{number_bins}T_{number_sc}cPerT_dynamics_{dynamics}_DS{dataset_id}\"\n",
    "        }\n",
    "    if match_p2:\n",
    "        return {\n",
    "            'number_genes': int(match_p2.group(1)),\n",
    "            'number_bins': int(match_p2.group(2)),\n",
    "            'number_sc': int(match_p2.group(3)),\n",
    "            'dynamics': int(match_p2.group(4)),\n",
    "            'dataset_id': int(match_p2.group(5)),\n",
    "            \"pattern\": \"De-noised_{number_genes}G_{number_bins}T_{number_sc}cPerT_{dynamics}_DS{dataset_id}\"\n",
    "        }\n",
    "    return\n",
    "\n",
    "def get_datasets():\n",
    "    datasets = []\n",
    "    for folder_name in os.listdir('./data_sets'):\n",
    "        dataset_info = parse_dataset_name(folder_name)\n",
    "        if dataset_info:\n",
    "            datasets.append(dataset_info)\n",
    "    return sorted(datasets, key=lambda x: x['dataset_id'])\n",
    "\n",
    "def fstr(template):\n",
    "    return eval(f'f\"\"\"{template}\"\"\"')"
   ]
  },
  {
   "cell_type": "code",
   "execution_count": 25,
   "id": "f729fe91-ce55-4f89-b5cb-70d6f8351b1b",
   "metadata": {
    "tags": []
   },
   "outputs": [],
   "source": [
    "def experiment(data_info):\n",
    "    sim = sergio(number_genes=data_info[\"number_genes\"], number_bins=data_info[\"number_bins\"], \n",
    "                 number_sc=data_info[\"number_sc\"], noise_params=1, decays=0.8, \n",
    "                 sampling_state=15, noise_type='dpd')\n",
    "    # sim.build_graph(input_file_taregts ='data_sets/De-noised_1200G_9T_300cPerT_6_DS3/Interaction_cID_6.txt',\\\n",
    "    #                 input_file_regs='data_sets/De-noised_1200G_9T_300cPerT_6_DS3/Regs_cID_6.txt', shared_coop_state=2)\n",
    "    number_genes = data_info[\"number_genes\"]\n",
    "    number_bins = data_info[\"number_bins\"]\n",
    "    number_sc = data_info[\"number_sc\"]\n",
    "    dynamics = data_info[\"dynamics\"]\n",
    "    dataset_id = data_info[\"dataset_id\"]\n",
    "    pattern = data_info[\"pattern\"]\n",
    "    folder_name = pattern.format(number_genes=number_genes, number_bins=number_bins, \n",
    "                                 number_sc=number_sc, dynamics=dynamics, dataset_id=dataset_id)\n",
    "    input_file_targets = f'data_sets/{folder_name}/Interaction_cID_{data_info[\"dynamics\"]}.txt'\n",
    "    input_file_regs = f'data_sets/{folder_name}/Regs_cID_{data_info[\"dynamics\"]}.txt'\n",
    "    \n",
    "    sim.build_graph(input_file_taregts=input_file_targets,\n",
    "                    input_file_regs=input_file_regs, shared_coop_state=2)\n",
    "    sim.simulate()\n",
    "    expr = sim.getExpressions()\n",
    "    expr_clean = np.concatenate(expr, axis=1)\n",
    "    return sim, expr, expr_clean"
   ]
  },
  {
   "cell_type": "code",
   "execution_count": 26,
   "id": "21f20c8b-10b2-4fc8-be24-afe8d2ac6aaa",
   "metadata": {},
   "outputs": [],
   "source": [
    "def save_data(dataset_id, expr_clean, expr, sim):\n",
    "    print(f\"DS{dataset_id}: {expr_clean.shape}\")\n",
    "    os.makedirs('imputation_data_temp', exist_ok=True)\n",
    "    np.save(f'imputation_data_temp/DS{dataset_id}_clean', expr_clean)\n",
    "    np.save(f'imputation_data_temp/DS{dataset_id}_expr', expr)\n",
    "    cmat_clean = sim.convert_to_UMIcounts(expr)\n",
    "    cmat_clean = np.concatenate(cmat_clean, axis=1)\n",
    "    np.save(f'imputation_data_temp/DS{dataset_id}_clean_counts', cmat_clean)"
   ]
  },
  {
   "cell_type": "code",
   "execution_count": 27,
   "id": "fcda5396",
   "metadata": {},
   "outputs": [],
   "source": [
    "def sparse_ratio(data):\n",
    "    # ndarray\n",
    "    return 1 - np.count_nonzero(data) / data.size"
   ]
  },
  {
   "cell_type": "code",
   "execution_count": 28,
   "id": "f1205022",
   "metadata": {},
   "outputs": [],
   "source": [
    "datasets = get_datasets()"
   ]
  },
  {
   "cell_type": "code",
   "execution_count": 29,
   "id": "4cd57194",
   "metadata": {},
   "outputs": [
    {
     "name": "stderr",
     "output_type": "stream",
     "text": [
      "100%|██████████| 1/1 [00:42<00:00, 42.20s/it]"
     ]
    },
    {
     "name": "stdout",
     "output_type": "stream",
     "text": [
      "DS8: (100, 900)\n",
      "Sparse ratios: [0.015599999999999947]\n"
     ]
    },
    {
     "name": "stderr",
     "output_type": "stream",
     "text": [
      "\n"
     ]
    }
   ],
   "source": [
    "sparse_ratios = []\n",
    "for dataset in tqdm(datasets):\n",
    "    sim, expr, expr_clean = experiment(dataset)\n",
    "    print(\"finished experiment\")\n",
    "    save_data(dataset['dataset_id'], expr_clean, expr, sim)\n",
    "    print(\"saved data\")\n",
    "    sparse_ratios.append(sparse_ratio(expr_clean))\n",
    "print(f\"Sparse ratios: {sparse_ratios}\")"
   ]
  },
  {
   "cell_type": "code",
   "execution_count": 18,
   "id": "2ce0628f",
   "metadata": {},
   "outputs": [
    {
     "ename": "ValueError",
     "evalue": "x and y must have length at least 2.",
     "output_type": "error",
     "traceback": [
      "\u001b[0;31m---------------------------------------------------------------------------\u001b[0m",
      "\u001b[0;31mValueError\u001b[0m                                Traceback (most recent call last)",
      "\u001b[0;32m/tmp/ipykernel_2017554/739024673.py\u001b[0m in \u001b[0;36m?\u001b[0;34m()\u001b[0m\n\u001b[0;32m----> 1\u001b[0;31m \u001b[0mgene_correlation\u001b[0m \u001b[0;34m=\u001b[0m \u001b[0mstats\u001b[0m\u001b[0;34m.\u001b[0m\u001b[0mpearsonr\u001b[0m\u001b[0;34m(\u001b[0m\u001b[0;34m[\u001b[0m\u001b[0md\u001b[0m\u001b[0;34m[\u001b[0m\u001b[0;34m'number_genes'\u001b[0m\u001b[0;34m]\u001b[0m \u001b[0;32mfor\u001b[0m \u001b[0md\u001b[0m \u001b[0;32min\u001b[0m \u001b[0mdatasets\u001b[0m\u001b[0;34m]\u001b[0m\u001b[0;34m,\u001b[0m \u001b[0msparse_ratios\u001b[0m\u001b[0;34m)\u001b[0m\u001b[0;34m[\u001b[0m\u001b[0;36m0\u001b[0m\u001b[0;34m]\u001b[0m\u001b[0;34m\u001b[0m\u001b[0;34m\u001b[0m\u001b[0m\n\u001b[0m\u001b[1;32m      2\u001b[0m \u001b[0mbin_correlation\u001b[0m \u001b[0;34m=\u001b[0m \u001b[0mstats\u001b[0m\u001b[0;34m.\u001b[0m\u001b[0mpearsonr\u001b[0m\u001b[0;34m(\u001b[0m\u001b[0;34m[\u001b[0m\u001b[0md\u001b[0m\u001b[0;34m[\u001b[0m\u001b[0;34m'number_bins'\u001b[0m\u001b[0;34m]\u001b[0m \u001b[0;32mfor\u001b[0m \u001b[0md\u001b[0m \u001b[0;32min\u001b[0m \u001b[0mdatasets\u001b[0m\u001b[0;34m]\u001b[0m\u001b[0;34m,\u001b[0m \u001b[0msparse_ratios\u001b[0m\u001b[0;34m)\u001b[0m\u001b[0;34m[\u001b[0m\u001b[0;36m0\u001b[0m\u001b[0;34m]\u001b[0m\u001b[0;34m\u001b[0m\u001b[0;34m\u001b[0m\u001b[0m\n\u001b[1;32m      3\u001b[0m \u001b[0msc_correlation\u001b[0m \u001b[0;34m=\u001b[0m \u001b[0mstats\u001b[0m\u001b[0;34m.\u001b[0m\u001b[0mpearsonr\u001b[0m\u001b[0;34m(\u001b[0m\u001b[0;34m[\u001b[0m\u001b[0md\u001b[0m\u001b[0;34m[\u001b[0m\u001b[0;34m'number_sc'\u001b[0m\u001b[0;34m]\u001b[0m \u001b[0;32mfor\u001b[0m \u001b[0md\u001b[0m \u001b[0;32min\u001b[0m \u001b[0mdatasets\u001b[0m\u001b[0;34m]\u001b[0m\u001b[0;34m,\u001b[0m \u001b[0msparse_ratios\u001b[0m\u001b[0;34m)\u001b[0m\u001b[0;34m[\u001b[0m\u001b[0;36m0\u001b[0m\u001b[0;34m]\u001b[0m\u001b[0;34m\u001b[0m\u001b[0;34m\u001b[0m\u001b[0m\n\u001b[1;32m      4\u001b[0m \u001b[0mprint\u001b[0m\u001b[0;34m(\u001b[0m\u001b[0;34m\"Pearson correlation\"\u001b[0m\u001b[0;34m)\u001b[0m\u001b[0;34m\u001b[0m\u001b[0;34m\u001b[0m\u001b[0m\n",
      "\u001b[0;32m/scratch/yz5944/miniconda3/envs/bio-zi/lib/python3.10/site-packages/scipy/stats/_stats_py.py\u001b[0m in \u001b[0;36m?\u001b[0;34m(x, y, alternative, method)\u001b[0m\n\u001b[1;32m   4764\u001b[0m     \u001b[0;32mif\u001b[0m \u001b[0mn\u001b[0m \u001b[0;34m!=\u001b[0m \u001b[0mlen\u001b[0m\u001b[0;34m(\u001b[0m\u001b[0my\u001b[0m\u001b[0;34m)\u001b[0m\u001b[0;34m:\u001b[0m\u001b[0;34m\u001b[0m\u001b[0;34m\u001b[0m\u001b[0m\n\u001b[1;32m   4765\u001b[0m         \u001b[0;32mraise\u001b[0m \u001b[0mValueError\u001b[0m\u001b[0;34m(\u001b[0m\u001b[0;34m'x and y must have the same length.'\u001b[0m\u001b[0;34m)\u001b[0m\u001b[0;34m\u001b[0m\u001b[0;34m\u001b[0m\u001b[0m\n\u001b[1;32m   4766\u001b[0m \u001b[0;34m\u001b[0m\u001b[0m\n\u001b[1;32m   4767\u001b[0m     \u001b[0;32mif\u001b[0m \u001b[0mn\u001b[0m \u001b[0;34m<\u001b[0m \u001b[0;36m2\u001b[0m\u001b[0;34m:\u001b[0m\u001b[0;34m\u001b[0m\u001b[0;34m\u001b[0m\u001b[0m\n\u001b[0;32m-> 4768\u001b[0;31m         \u001b[0;32mraise\u001b[0m \u001b[0mValueError\u001b[0m\u001b[0;34m(\u001b[0m\u001b[0;34m'x and y must have length at least 2.'\u001b[0m\u001b[0;34m)\u001b[0m\u001b[0;34m\u001b[0m\u001b[0;34m\u001b[0m\u001b[0m\n\u001b[0m\u001b[1;32m   4769\u001b[0m \u001b[0;34m\u001b[0m\u001b[0m\n\u001b[1;32m   4770\u001b[0m     \u001b[0mx\u001b[0m \u001b[0;34m=\u001b[0m \u001b[0mnp\u001b[0m\u001b[0;34m.\u001b[0m\u001b[0masarray\u001b[0m\u001b[0;34m(\u001b[0m\u001b[0mx\u001b[0m\u001b[0;34m)\u001b[0m\u001b[0;34m\u001b[0m\u001b[0;34m\u001b[0m\u001b[0m\n\u001b[1;32m   4771\u001b[0m     \u001b[0my\u001b[0m \u001b[0;34m=\u001b[0m \u001b[0mnp\u001b[0m\u001b[0;34m.\u001b[0m\u001b[0masarray\u001b[0m\u001b[0;34m(\u001b[0m\u001b[0my\u001b[0m\u001b[0;34m)\u001b[0m\u001b[0;34m\u001b[0m\u001b[0;34m\u001b[0m\u001b[0m\n",
      "\u001b[0;31mValueError\u001b[0m: x and y must have length at least 2."
     ]
    }
   ],
   "source": [
    "# gene_correlation = stats.pearsonr([d['number_genes'] for d in datasets], sparse_ratios)[0]\n",
    "# bin_correlation = stats.pearsonr([d['number_bins'] for d in datasets], sparse_ratios)[0]\n",
    "# sc_correlation = stats.pearsonr([d['number_sc'] for d in datasets], sparse_ratios)[0]\n",
    "# print(\"Pearson correlation\")\n",
    "# print(f\"number genes: {gene_correlation}\")\n",
    "# print(f\"number bins: {bin_correlation}\")\n",
    "# print(f\"number sc: {sc_correlation}\")\n",
    "\n",
    "# gene_spearman = stats.spearmanr([d['number_genes'] for d in datasets], sparse_ratios)[0]\n",
    "# bin_spearman = stats.spearmanr([d['number_bins'] for d in datasets], sparse_ratios)[0]\n",
    "# sc_spearman = stats.spearmanr([d['number_sc'] for d in datasets], sparse_ratios)[0]\n",
    "# print(\"Spearson correlation\")\n",
    "# print(f\"number genes: {gene_spearman}\")\n",
    "# print(f\"number bins: {bin_spearman}\")\n",
    "# print(f\"number sc: {sc_spearman}\")"
   ]
  },
  {
   "cell_type": "markdown",
   "id": "d5c78eac-47de-4f46-bac2-07124d3fdfb1",
   "metadata": {},
   "source": [
    "# Add Technical Noise _ Steady-State Simulations"
   ]
  },
  {
   "cell_type": "code",
   "execution_count": 1,
   "id": "a8dcc814-5da4-47a8-a251-8278e9427fb7",
   "metadata": {
    "tags": []
   },
   "outputs": [
    {
     "ename": "NameError",
     "evalue": "name 'sim' is not defined",
     "output_type": "error",
     "traceback": [
      "\u001b[0;31m---------------------------------------------------------------------------\u001b[0m",
      "\u001b[0;31mNameError\u001b[0m                                 Traceback (most recent call last)",
      "Cell \u001b[0;32mIn[1], line 4\u001b[0m\n\u001b[1;32m      1\u001b[0m \u001b[38;5;124;03m\"\"\"\u001b[39;00m\n\u001b[1;32m      2\u001b[0m \u001b[38;5;124;03mAdd outlier genes\u001b[39;00m\n\u001b[1;32m      3\u001b[0m \u001b[38;5;124;03m\"\"\"\u001b[39;00m\n\u001b[0;32m----> 4\u001b[0m expr_O \u001b[38;5;241m=\u001b[39m \u001b[43msim\u001b[49m\u001b[38;5;241m.\u001b[39moutlier_effect(expr, outlier_prob \u001b[38;5;241m=\u001b[39m \u001b[38;5;241m0.01\u001b[39m, mean \u001b[38;5;241m=\u001b[39m \u001b[38;5;241m5\u001b[39m, scale \u001b[38;5;241m=\u001b[39m \u001b[38;5;241m1\u001b[39m)\n\u001b[1;32m      6\u001b[0m \u001b[38;5;124;03m\"\"\"\u001b[39;00m\n\u001b[1;32m      7\u001b[0m \u001b[38;5;124;03mAdd Library Size Effect\u001b[39;00m\n\u001b[1;32m      8\u001b[0m \u001b[38;5;124;03m\"\"\"\u001b[39;00m\n\u001b[1;32m      9\u001b[0m libFactor, expr_O_L \u001b[38;5;241m=\u001b[39m sim\u001b[38;5;241m.\u001b[39mlib_size_effect(expr_O, mean \u001b[38;5;241m=\u001b[39m \u001b[38;5;241m4.5\u001b[39m, scale \u001b[38;5;241m=\u001b[39m \u001b[38;5;241m0.7\u001b[39m)\n",
      "\u001b[0;31mNameError\u001b[0m: name 'sim' is not defined"
     ]
    }
   ],
   "source": [
    "\"\"\"\n",
    "Add outlier genes\n",
    "\"\"\"\n",
    "expr_O = sim.outlier_effect(expr, outlier_prob = 0.01, mean = 5, scale = 1)\n",
    "\n",
    "\"\"\"\n",
    "Add Library Size Effect\n",
    "\"\"\"\n",
    "libFactor, expr_O_L = sim.lib_size_effect(expr_O, mean = 4.5, scale = 0.7)\n",
    "\n",
    "\"\"\"\n",
    "Add Dropouts\n",
    "\"\"\"\n",
    "binary_ind = sim.dropout_indicator(expr_O_L, shape = 8, percentile = 45)\n",
    "expr_O_L_D = np.multiply(binary_ind, expr_O_L)\n",
    "\n",
    "\"\"\"\n",
    "Convert to UMI count\n",
    "\"\"\"\n",
    "count_matrix = sim.convert_to_UMIcounts(expr_O_L_D)\n",
    "\n",
    "\"\"\"\n",
    "Make a 2d gene expression matrix\n",
    "\"\"\"\n",
    "count_matrix = np.concatenate(count_matrix, axis = 1)"
   ]
  },
  {
   "cell_type": "code",
   "execution_count": 8,
   "id": "a6fc6013-b704-45b2-a135-2beeec7adc5f",
   "metadata": {},
   "outputs": [],
   "source": [
    "np.save('imputation_data_temp/DS6_45', count_matrix)"
   ]
  },
  {
   "cell_type": "code",
   "execution_count": 9,
   "id": "cfe50212-3bec-43dc-927a-ad3af3f159e3",
   "metadata": {},
   "outputs": [
    {
     "data": {
      "text/plain": [
       "(100, 270)"
      ]
     },
     "execution_count": 9,
     "metadata": {},
     "output_type": "execute_result"
    }
   ],
   "source": [
    "count_matrix.shape"
   ]
  },
  {
   "cell_type": "markdown",
   "id": "581d3716-fec9-47b8-a621-a1d8725aa0a0",
   "metadata": {},
   "source": [
    "# Simulate Clean Data _ differentiation Simulation"
   ]
  },
  {
   "cell_type": "code",
   "execution_count": null,
   "id": "41135333-d8d9-4825-911a-7fd515709097",
   "metadata": {
    "collapsed": true,
    "jupyter": {
     "outputs_hidden": true
    }
   },
   "outputs": [],
   "source": [
    "# df = pd.read_csv('data_sets/De-noised_100G_6T_300cPerT_dynamics_7_DS6/bMat_cID7.tab', sep='\\t', header=None, index_col=None)\n",
    "# bMat = df.values\n",
    "\n",
    "# sim = sergio(number_genes=100, number_bins = 6, number_sc = 300, noise_params = 0.2, decays=0.8, sampling_state = 1, noise_params_splice = 0.07, noise_type='dpd', dynamics=True, bifurcation_matrix= bMat)\n",
    "# sim.build_graph(input_file_taregts ='data_sets/De-noised_100G_6T_300cPerT_dynamics_7_DS6/Interaction_cID_7.txt', input_file_regs='data_sets/De-noised_100G_6T_300cPerT_dynamics_7_DS6/Regs_cID_7.txt', shared_coop_state=2)\n",
    "# sim.simulate_dynamics()\n",
    "# exprU, exprS = sim.getExpressions_dynamics()\n",
    "# exprU_clean = np.concatenate(exprU, axis = 1)\n",
    "# exprS_clean = np.concatenate(exprS, axis = 1)"
   ]
  },
  {
   "cell_type": "markdown",
   "id": "a115ba97-e9dc-411c-b086-7922b16d212e",
   "metadata": {},
   "source": [
    "# Add Technical Noise _ differentiation Simulations"
   ]
  },
  {
   "cell_type": "code",
   "execution_count": null,
   "id": "793b8d37-b2c2-4686-a5d3-88aff05819f1",
   "metadata": {
    "collapsed": true,
    "jupyter": {
     "outputs_hidden": true
    }
   },
   "outputs": [],
   "source": [
    "# \"\"\"\n",
    "# Add outlier genes\n",
    "# \"\"\"\n",
    "# exprU_O, exprS_O = sim.outlier_effect_dynamics(exprU, exprS, outlier_prob = 0.01, mean = 0.8, scale = 1)\n",
    "\n",
    "# \"\"\"\n",
    "# Add Library Size Effect\n",
    "# \"\"\"\n",
    "# libFactor, exprU_O_L, exprS_O_L = sim.lib_size_effect_dynamics(exprU_O, exprS_O, mean = 4.6, scale = 0.4)\n",
    "\n",
    "# \"\"\"\n",
    "# Add Dropouts\n",
    "# \"\"\"\n",
    "# binary_indU, binary_indS = sim.dropout_indicator_dynamics(exprU_O_L, exprS_O_L, shape = 6.5, percentile = 82)\n",
    "# exprU_O_L_D = np.multiply(binary_indU, exprU_O_L)\n",
    "# exprS_O_L_D = np.multiply(binary_indS, exprS_O_L)\n",
    "\n",
    "# \"\"\"\n",
    "# Convert to UMI count\n",
    "# \"\"\"\n",
    "# count_matrix_U, count_matrix_S = sim.convert_to_UMIcounts_dynamics(exprU_O_L_D, exprS_O_L_D)\n",
    "\n",
    "# \"\"\"\n",
    "# Make 2d spliced and unspliced expression matrices\n",
    "# \"\"\"\n",
    "# count_matrix_U = np.concatenate(count_matrix_U, axis = 1)\n",
    "# count_matrix_S = np.concatenate(count_matrix_S, axis = 1)"
   ]
  },
  {
   "cell_type": "code",
   "execution_count": null,
   "id": "aba5886f",
   "metadata": {},
   "outputs": [],
   "source": []
  }
 ],
 "metadata": {
  "kernelspec": {
   "display_name": "Python 3 (ipykernel)",
   "language": "python",
   "name": "python3"
  },
  "language_info": {
   "codemirror_mode": {
    "name": "ipython",
    "version": 3
   },
   "file_extension": ".py",
   "mimetype": "text/x-python",
   "name": "python",
   "nbconvert_exporter": "python",
   "pygments_lexer": "ipython3",
   "version": "3.10.14"
  }
 },
 "nbformat": 4,
 "nbformat_minor": 5
}
